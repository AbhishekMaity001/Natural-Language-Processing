{
 "cells": [
  {
   "cell_type": "markdown",
   "metadata": {},
   "source": [
    "# Churn Modelling for Bank Customers\n",
    "\n",
    "You can download the dataset from kaggle : https://www.kaggle.com/adammaus/predicting-churn-for-bank-customers"
   ]
  },
  {
   "cell_type": "code",
   "execution_count": 14,
   "metadata": {},
   "outputs": [],
   "source": [
    "import numpy as np\n",
    "import pandas as pd\n",
    "import matplotlib.pyplot as plt\n",
    "import seaborn as sns\n",
    "%matplotlib inline\n",
    "import tensorflow as tf"
   ]
  },
  {
   "cell_type": "code",
   "execution_count": 15,
   "metadata": {},
   "outputs": [
    {
     "data": {
      "text/html": [
       "<div>\n",
       "<style scoped>\n",
       "    .dataframe tbody tr th:only-of-type {\n",
       "        vertical-align: middle;\n",
       "    }\n",
       "\n",
       "    .dataframe tbody tr th {\n",
       "        vertical-align: top;\n",
       "    }\n",
       "\n",
       "    .dataframe thead th {\n",
       "        text-align: right;\n",
       "    }\n",
       "</style>\n",
       "<table border=\"1\" class=\"dataframe\">\n",
       "  <thead>\n",
       "    <tr style=\"text-align: right;\">\n",
       "      <th></th>\n",
       "      <th>RowNumber</th>\n",
       "      <th>CustomerId</th>\n",
       "      <th>Surname</th>\n",
       "      <th>CreditScore</th>\n",
       "      <th>Geography</th>\n",
       "      <th>Gender</th>\n",
       "      <th>Age</th>\n",
       "      <th>Tenure</th>\n",
       "      <th>Balance</th>\n",
       "      <th>NumOfProducts</th>\n",
       "      <th>HasCrCard</th>\n",
       "      <th>IsActiveMember</th>\n",
       "      <th>EstimatedSalary</th>\n",
       "      <th>Exited</th>\n",
       "    </tr>\n",
       "  </thead>\n",
       "  <tbody>\n",
       "    <tr>\n",
       "      <th>0</th>\n",
       "      <td>1</td>\n",
       "      <td>15634602</td>\n",
       "      <td>Hargrave</td>\n",
       "      <td>619</td>\n",
       "      <td>France</td>\n",
       "      <td>Female</td>\n",
       "      <td>42</td>\n",
       "      <td>2</td>\n",
       "      <td>0.00</td>\n",
       "      <td>1</td>\n",
       "      <td>1</td>\n",
       "      <td>1</td>\n",
       "      <td>101348.88</td>\n",
       "      <td>1</td>\n",
       "    </tr>\n",
       "    <tr>\n",
       "      <th>1</th>\n",
       "      <td>2</td>\n",
       "      <td>15647311</td>\n",
       "      <td>Hill</td>\n",
       "      <td>608</td>\n",
       "      <td>Spain</td>\n",
       "      <td>Female</td>\n",
       "      <td>41</td>\n",
       "      <td>1</td>\n",
       "      <td>83807.86</td>\n",
       "      <td>1</td>\n",
       "      <td>0</td>\n",
       "      <td>1</td>\n",
       "      <td>112542.58</td>\n",
       "      <td>0</td>\n",
       "    </tr>\n",
       "    <tr>\n",
       "      <th>2</th>\n",
       "      <td>3</td>\n",
       "      <td>15619304</td>\n",
       "      <td>Onio</td>\n",
       "      <td>502</td>\n",
       "      <td>France</td>\n",
       "      <td>Female</td>\n",
       "      <td>42</td>\n",
       "      <td>8</td>\n",
       "      <td>159660.80</td>\n",
       "      <td>3</td>\n",
       "      <td>1</td>\n",
       "      <td>0</td>\n",
       "      <td>113931.57</td>\n",
       "      <td>1</td>\n",
       "    </tr>\n",
       "    <tr>\n",
       "      <th>3</th>\n",
       "      <td>4</td>\n",
       "      <td>15701354</td>\n",
       "      <td>Boni</td>\n",
       "      <td>699</td>\n",
       "      <td>France</td>\n",
       "      <td>Female</td>\n",
       "      <td>39</td>\n",
       "      <td>1</td>\n",
       "      <td>0.00</td>\n",
       "      <td>2</td>\n",
       "      <td>0</td>\n",
       "      <td>0</td>\n",
       "      <td>93826.63</td>\n",
       "      <td>0</td>\n",
       "    </tr>\n",
       "    <tr>\n",
       "      <th>4</th>\n",
       "      <td>5</td>\n",
       "      <td>15737888</td>\n",
       "      <td>Mitchell</td>\n",
       "      <td>850</td>\n",
       "      <td>Spain</td>\n",
       "      <td>Female</td>\n",
       "      <td>43</td>\n",
       "      <td>2</td>\n",
       "      <td>125510.82</td>\n",
       "      <td>1</td>\n",
       "      <td>1</td>\n",
       "      <td>1</td>\n",
       "      <td>79084.10</td>\n",
       "      <td>0</td>\n",
       "    </tr>\n",
       "  </tbody>\n",
       "</table>\n",
       "</div>"
      ],
      "text/plain": [
       "   RowNumber  CustomerId   Surname  CreditScore Geography  Gender  Age  \\\n",
       "0          1    15634602  Hargrave          619    France  Female   42   \n",
       "1          2    15647311      Hill          608     Spain  Female   41   \n",
       "2          3    15619304      Onio          502    France  Female   42   \n",
       "3          4    15701354      Boni          699    France  Female   39   \n",
       "4          5    15737888  Mitchell          850     Spain  Female   43   \n",
       "\n",
       "   Tenure    Balance  NumOfProducts  HasCrCard  IsActiveMember  \\\n",
       "0       2       0.00              1          1               1   \n",
       "1       1   83807.86              1          0               1   \n",
       "2       8  159660.80              3          1               0   \n",
       "3       1       0.00              2          0               0   \n",
       "4       2  125510.82              1          1               1   \n",
       "\n",
       "   EstimatedSalary  Exited  \n",
       "0        101348.88       1  \n",
       "1        112542.58       0  \n",
       "2        113931.57       1  \n",
       "3         93826.63       0  \n",
       "4         79084.10       0  "
      ]
     },
     "execution_count": 15,
     "metadata": {},
     "output_type": "execute_result"
    }
   ],
   "source": [
    "df = pd.read_csv('Churn_Modelling.csv')\n",
    "df.head()"
   ]
  },
  {
   "cell_type": "markdown",
   "metadata": {},
   "source": [
    "# EDA (Exploratory Data Analysis)"
   ]
  },
  {
   "cell_type": "code",
   "execution_count": 16,
   "metadata": {
    "scrolled": false
   },
   "outputs": [
    {
     "name": "stdout",
     "output_type": "stream",
     "text": [
      "<class 'pandas.core.frame.DataFrame'>\n",
      "RangeIndex: 10000 entries, 0 to 9999\n",
      "Data columns (total 14 columns):\n",
      " #   Column           Non-Null Count  Dtype  \n",
      "---  ------           --------------  -----  \n",
      " 0   RowNumber        10000 non-null  int64  \n",
      " 1   CustomerId       10000 non-null  int64  \n",
      " 2   Surname          10000 non-null  object \n",
      " 3   CreditScore      10000 non-null  int64  \n",
      " 4   Geography        10000 non-null  object \n",
      " 5   Gender           10000 non-null  object \n",
      " 6   Age              10000 non-null  int64  \n",
      " 7   Tenure           10000 non-null  int64  \n",
      " 8   Balance          10000 non-null  float64\n",
      " 9   NumOfProducts    10000 non-null  int64  \n",
      " 10  HasCrCard        10000 non-null  int64  \n",
      " 11  IsActiveMember   10000 non-null  int64  \n",
      " 12  EstimatedSalary  10000 non-null  float64\n",
      " 13  Exited           10000 non-null  int64  \n",
      "dtypes: float64(2), int64(9), object(3)\n",
      "memory usage: 1.1+ MB\n"
     ]
    }
   ],
   "source": [
    "df.info()"
   ]
  },
  {
   "cell_type": "code",
   "execution_count": 17,
   "metadata": {},
   "outputs": [
    {
     "data": {
      "text/plain": [
       "(10000, 14)"
      ]
     },
     "execution_count": 17,
     "metadata": {},
     "output_type": "execute_result"
    }
   ],
   "source": [
    "df.shape"
   ]
  },
  {
   "cell_type": "code",
   "execution_count": 18,
   "metadata": {},
   "outputs": [
    {
     "data": {
      "text/html": [
       "<div>\n",
       "<style scoped>\n",
       "    .dataframe tbody tr th:only-of-type {\n",
       "        vertical-align: middle;\n",
       "    }\n",
       "\n",
       "    .dataframe tbody tr th {\n",
       "        vertical-align: top;\n",
       "    }\n",
       "\n",
       "    .dataframe thead th {\n",
       "        text-align: right;\n",
       "    }\n",
       "</style>\n",
       "<table border=\"1\" class=\"dataframe\">\n",
       "  <thead>\n",
       "    <tr style=\"text-align: right;\">\n",
       "      <th></th>\n",
       "      <th>count</th>\n",
       "      <th>mean</th>\n",
       "      <th>std</th>\n",
       "      <th>min</th>\n",
       "      <th>25%</th>\n",
       "      <th>50%</th>\n",
       "      <th>75%</th>\n",
       "      <th>max</th>\n",
       "    </tr>\n",
       "  </thead>\n",
       "  <tbody>\n",
       "    <tr>\n",
       "      <th>RowNumber</th>\n",
       "      <td>10000.0</td>\n",
       "      <td>5.000500e+03</td>\n",
       "      <td>2886.895680</td>\n",
       "      <td>1.00</td>\n",
       "      <td>2500.75</td>\n",
       "      <td>5.000500e+03</td>\n",
       "      <td>7.500250e+03</td>\n",
       "      <td>10000.00</td>\n",
       "    </tr>\n",
       "    <tr>\n",
       "      <th>CustomerId</th>\n",
       "      <td>10000.0</td>\n",
       "      <td>1.569094e+07</td>\n",
       "      <td>71936.186123</td>\n",
       "      <td>15565701.00</td>\n",
       "      <td>15628528.25</td>\n",
       "      <td>1.569074e+07</td>\n",
       "      <td>1.575323e+07</td>\n",
       "      <td>15815690.00</td>\n",
       "    </tr>\n",
       "    <tr>\n",
       "      <th>CreditScore</th>\n",
       "      <td>10000.0</td>\n",
       "      <td>6.505288e+02</td>\n",
       "      <td>96.653299</td>\n",
       "      <td>350.00</td>\n",
       "      <td>584.00</td>\n",
       "      <td>6.520000e+02</td>\n",
       "      <td>7.180000e+02</td>\n",
       "      <td>850.00</td>\n",
       "    </tr>\n",
       "    <tr>\n",
       "      <th>Age</th>\n",
       "      <td>10000.0</td>\n",
       "      <td>3.892180e+01</td>\n",
       "      <td>10.487806</td>\n",
       "      <td>18.00</td>\n",
       "      <td>32.00</td>\n",
       "      <td>3.700000e+01</td>\n",
       "      <td>4.400000e+01</td>\n",
       "      <td>92.00</td>\n",
       "    </tr>\n",
       "    <tr>\n",
       "      <th>Tenure</th>\n",
       "      <td>10000.0</td>\n",
       "      <td>5.012800e+00</td>\n",
       "      <td>2.892174</td>\n",
       "      <td>0.00</td>\n",
       "      <td>3.00</td>\n",
       "      <td>5.000000e+00</td>\n",
       "      <td>7.000000e+00</td>\n",
       "      <td>10.00</td>\n",
       "    </tr>\n",
       "    <tr>\n",
       "      <th>Balance</th>\n",
       "      <td>10000.0</td>\n",
       "      <td>7.648589e+04</td>\n",
       "      <td>62397.405202</td>\n",
       "      <td>0.00</td>\n",
       "      <td>0.00</td>\n",
       "      <td>9.719854e+04</td>\n",
       "      <td>1.276442e+05</td>\n",
       "      <td>250898.09</td>\n",
       "    </tr>\n",
       "    <tr>\n",
       "      <th>NumOfProducts</th>\n",
       "      <td>10000.0</td>\n",
       "      <td>1.530200e+00</td>\n",
       "      <td>0.581654</td>\n",
       "      <td>1.00</td>\n",
       "      <td>1.00</td>\n",
       "      <td>1.000000e+00</td>\n",
       "      <td>2.000000e+00</td>\n",
       "      <td>4.00</td>\n",
       "    </tr>\n",
       "    <tr>\n",
       "      <th>HasCrCard</th>\n",
       "      <td>10000.0</td>\n",
       "      <td>7.055000e-01</td>\n",
       "      <td>0.455840</td>\n",
       "      <td>0.00</td>\n",
       "      <td>0.00</td>\n",
       "      <td>1.000000e+00</td>\n",
       "      <td>1.000000e+00</td>\n",
       "      <td>1.00</td>\n",
       "    </tr>\n",
       "    <tr>\n",
       "      <th>IsActiveMember</th>\n",
       "      <td>10000.0</td>\n",
       "      <td>5.151000e-01</td>\n",
       "      <td>0.499797</td>\n",
       "      <td>0.00</td>\n",
       "      <td>0.00</td>\n",
       "      <td>1.000000e+00</td>\n",
       "      <td>1.000000e+00</td>\n",
       "      <td>1.00</td>\n",
       "    </tr>\n",
       "    <tr>\n",
       "      <th>EstimatedSalary</th>\n",
       "      <td>10000.0</td>\n",
       "      <td>1.000902e+05</td>\n",
       "      <td>57510.492818</td>\n",
       "      <td>11.58</td>\n",
       "      <td>51002.11</td>\n",
       "      <td>1.001939e+05</td>\n",
       "      <td>1.493882e+05</td>\n",
       "      <td>199992.48</td>\n",
       "    </tr>\n",
       "    <tr>\n",
       "      <th>Exited</th>\n",
       "      <td>10000.0</td>\n",
       "      <td>2.037000e-01</td>\n",
       "      <td>0.402769</td>\n",
       "      <td>0.00</td>\n",
       "      <td>0.00</td>\n",
       "      <td>0.000000e+00</td>\n",
       "      <td>0.000000e+00</td>\n",
       "      <td>1.00</td>\n",
       "    </tr>\n",
       "  </tbody>\n",
       "</table>\n",
       "</div>"
      ],
      "text/plain": [
       "                   count          mean           std          min  \\\n",
       "RowNumber        10000.0  5.000500e+03   2886.895680         1.00   \n",
       "CustomerId       10000.0  1.569094e+07  71936.186123  15565701.00   \n",
       "CreditScore      10000.0  6.505288e+02     96.653299       350.00   \n",
       "Age              10000.0  3.892180e+01     10.487806        18.00   \n",
       "Tenure           10000.0  5.012800e+00      2.892174         0.00   \n",
       "Balance          10000.0  7.648589e+04  62397.405202         0.00   \n",
       "NumOfProducts    10000.0  1.530200e+00      0.581654         1.00   \n",
       "HasCrCard        10000.0  7.055000e-01      0.455840         0.00   \n",
       "IsActiveMember   10000.0  5.151000e-01      0.499797         0.00   \n",
       "EstimatedSalary  10000.0  1.000902e+05  57510.492818        11.58   \n",
       "Exited           10000.0  2.037000e-01      0.402769         0.00   \n",
       "\n",
       "                         25%           50%           75%          max  \n",
       "RowNumber            2500.75  5.000500e+03  7.500250e+03     10000.00  \n",
       "CustomerId       15628528.25  1.569074e+07  1.575323e+07  15815690.00  \n",
       "CreditScore           584.00  6.520000e+02  7.180000e+02       850.00  \n",
       "Age                    32.00  3.700000e+01  4.400000e+01        92.00  \n",
       "Tenure                  3.00  5.000000e+00  7.000000e+00        10.00  \n",
       "Balance                 0.00  9.719854e+04  1.276442e+05    250898.09  \n",
       "NumOfProducts           1.00  1.000000e+00  2.000000e+00         4.00  \n",
       "HasCrCard               0.00  1.000000e+00  1.000000e+00         1.00  \n",
       "IsActiveMember          0.00  1.000000e+00  1.000000e+00         1.00  \n",
       "EstimatedSalary     51002.11  1.001939e+05  1.493882e+05    199992.48  \n",
       "Exited                  0.00  0.000000e+00  0.000000e+00         1.00  "
      ]
     },
     "execution_count": 18,
     "metadata": {},
     "output_type": "execute_result"
    }
   ],
   "source": [
    "df.describe().T"
   ]
  },
  {
   "cell_type": "code",
   "execution_count": 19,
   "metadata": {},
   "outputs": [
    {
     "data": {
      "text/plain": [
       "RowNumber          0\n",
       "CustomerId         0\n",
       "Surname            0\n",
       "CreditScore        0\n",
       "Geography          0\n",
       "Gender             0\n",
       "Age                0\n",
       "Tenure             0\n",
       "Balance            0\n",
       "NumOfProducts      0\n",
       "HasCrCard          0\n",
       "IsActiveMember     0\n",
       "EstimatedSalary    0\n",
       "Exited             0\n",
       "dtype: int64"
      ]
     },
     "execution_count": 19,
     "metadata": {},
     "output_type": "execute_result"
    }
   ],
   "source": [
    "# Checking for the Null values\n",
    "df.isnull().sum()"
   ]
  },
  {
   "cell_type": "code",
   "execution_count": 20,
   "metadata": {},
   "outputs": [
    {
     "data": {
      "text/plain": [
       "0    7963\n",
       "1    2037\n",
       "Name: Exited, dtype: int64"
      ]
     },
     "execution_count": 20,
     "metadata": {},
     "output_type": "execute_result"
    }
   ],
   "source": [
    "df['Exited'].value_counts()"
   ]
  },
  {
   "cell_type": "code",
   "execution_count": 21,
   "metadata": {},
   "outputs": [
    {
     "name": "stderr",
     "output_type": "stream",
     "text": [
      "d:\\anacondafiles\\envs\\deeplearning\\lib\\site-packages\\seaborn\\_decorators.py:43: FutureWarning: Pass the following variable as a keyword arg: x. From version 0.12, the only valid positional argument will be `data`, and passing other arguments without an explicit keyword will result in an error or misinterpretation.\n",
      "  FutureWarning\n"
     ]
    },
    {
     "data": {
      "text/plain": [
       "<AxesSubplot:xlabel='Exited', ylabel='count'>"
      ]
     },
     "execution_count": 21,
     "metadata": {},
     "output_type": "execute_result"
    },
    {
     "data": {
      "image/png": "[encoded data removed]",
      "text/plain": [
       "<Figure size 720x432 with 1 Axes>"
      ]
     },
     "metadata": {
      "needs_background": "light"
     },
     "output_type": "display_data"
    }
   ],
   "source": [
    "plt.figure(figsize=(10,6))\n",
    "sns.countplot(df['Exited'])"
   ]
  },
  {
   "cell_type": "markdown",
   "metadata": {},
   "source": [
    "So We can clearly see that our dataset is imbalanced so we need to fix this imbalance problem otherwise our model will be more biased towards the majority category!"
   ]
  },
  {
   "cell_type": "code",
   "execution_count": 22,
   "metadata": {},
   "outputs": [
    {
     "data": {
      "text/html": [
       "<div>\n",
       "<style scoped>\n",
       "    .dataframe tbody tr th:only-of-type {\n",
       "        vertical-align: middle;\n",
       "    }\n",
       "\n",
       "    .dataframe tbody tr th {\n",
       "        vertical-align: top;\n",
       "    }\n",
       "\n",
       "    .dataframe thead th {\n",
       "        text-align: right;\n",
       "    }\n",
       "</style>\n",
       "<table border=\"1\" class=\"dataframe\">\n",
       "  <thead>\n",
       "    <tr style=\"text-align: right;\">\n",
       "      <th></th>\n",
       "      <th>RowNumber</th>\n",
       "      <th>CustomerId</th>\n",
       "      <th>Surname</th>\n",
       "      <th>CreditScore</th>\n",
       "      <th>Geography</th>\n",
       "      <th>Gender</th>\n",
       "      <th>Age</th>\n",
       "      <th>Tenure</th>\n",
       "      <th>Balance</th>\n",
       "      <th>NumOfProducts</th>\n",
       "      <th>HasCrCard</th>\n",
       "      <th>IsActiveMember</th>\n",
       "      <th>EstimatedSalary</th>\n",
       "      <th>Exited</th>\n",
       "    </tr>\n",
       "  </thead>\n",
       "  <tbody>\n",
       "    <tr>\n",
       "      <th>0</th>\n",
       "      <td>1</td>\n",
       "      <td>15634602</td>\n",
       "      <td>Hargrave</td>\n",
       "      <td>619</td>\n",
       "      <td>France</td>\n",
       "      <td>Female</td>\n",
       "      <td>42</td>\n",
       "      <td>2</td>\n",
       "      <td>0.00</td>\n",
       "      <td>1</td>\n",
       "      <td>1</td>\n",
       "      <td>1</td>\n",
       "      <td>101348.88</td>\n",
       "      <td>1</td>\n",
       "    </tr>\n",
       "    <tr>\n",
       "      <th>1</th>\n",
       "      <td>2</td>\n",
       "      <td>15647311</td>\n",
       "      <td>Hill</td>\n",
       "      <td>608</td>\n",
       "      <td>Spain</td>\n",
       "      <td>Female</td>\n",
       "      <td>41</td>\n",
       "      <td>1</td>\n",
       "      <td>83807.86</td>\n",
       "      <td>1</td>\n",
       "      <td>0</td>\n",
       "      <td>1</td>\n",
       "      <td>112542.58</td>\n",
       "      <td>0</td>\n",
       "    </tr>\n",
       "    <tr>\n",
       "      <th>2</th>\n",
       "      <td>3</td>\n",
       "      <td>15619304</td>\n",
       "      <td>Onio</td>\n",
       "      <td>502</td>\n",
       "      <td>France</td>\n",
       "      <td>Female</td>\n",
       "      <td>42</td>\n",
       "      <td>8</td>\n",
       "      <td>159660.80</td>\n",
       "      <td>3</td>\n",
       "      <td>1</td>\n",
       "      <td>0</td>\n",
       "      <td>113931.57</td>\n",
       "      <td>1</td>\n",
       "    </tr>\n",
       "    <tr>\n",
       "      <th>3</th>\n",
       "      <td>4</td>\n",
       "      <td>15701354</td>\n",
       "      <td>Boni</td>\n",
       "      <td>699</td>\n",
       "      <td>France</td>\n",
       "      <td>Female</td>\n",
       "      <td>39</td>\n",
       "      <td>1</td>\n",
       "      <td>0.00</td>\n",
       "      <td>2</td>\n",
       "      <td>0</td>\n",
       "      <td>0</td>\n",
       "      <td>93826.63</td>\n",
       "      <td>0</td>\n",
       "    </tr>\n",
       "    <tr>\n",
       "      <th>4</th>\n",
       "      <td>5</td>\n",
       "      <td>15737888</td>\n",
       "      <td>Mitchell</td>\n",
       "      <td>850</td>\n",
       "      <td>Spain</td>\n",
       "      <td>Female</td>\n",
       "      <td>43</td>\n",
       "      <td>2</td>\n",
       "      <td>125510.82</td>\n",
       "      <td>1</td>\n",
       "      <td>1</td>\n",
       "      <td>1</td>\n",
       "      <td>79084.10</td>\n",
       "      <td>0</td>\n",
       "    </tr>\n",
       "  </tbody>\n",
       "</table>\n",
       "</div>"
      ],
      "text/plain": [
       "   RowNumber  CustomerId   Surname  CreditScore Geography  Gender  Age  \\\n",
       "0          1    15634602  Hargrave          619    France  Female   42   \n",
       "1          2    15647311      Hill          608     Spain  Female   41   \n",
       "2          3    15619304      Onio          502    France  Female   42   \n",
       "3          4    15701354      Boni          699    France  Female   39   \n",
       "4          5    15737888  Mitchell          850     Spain  Female   43   \n",
       "\n",
       "   Tenure    Balance  NumOfProducts  HasCrCard  IsActiveMember  \\\n",
       "0       2       0.00              1          1               1   \n",
       "1       1   83807.86              1          0               1   \n",
       "2       8  159660.80              3          1               0   \n",
       "3       1       0.00              2          0               0   \n",
       "4       2  125510.82              1          1               1   \n",
       "\n",
       "   EstimatedSalary  Exited  \n",
       "0        101348.88       1  \n",
       "1        112542.58       0  \n",
       "2        113931.57       1  \n",
       "3         93826.63       0  \n",
       "4         79084.10       0  "
      ]
     },
     "execution_count": 22,
     "metadata": {},
     "output_type": "execute_result"
    }
   ],
   "source": [
    "df.head()"
   ]
  },
  {
   "cell_type": "code",
   "execution_count": 23,
   "metadata": {
    "scrolled": true
   },
   "outputs": [
    {
     "data": {
      "text/html": [
       "<div>\n",
       "<style scoped>\n",
       "    .dataframe tbody tr th:only-of-type {\n",
       "        vertical-align: middle;\n",
       "    }\n",
       "\n",
       "    .dataframe tbody tr th {\n",
       "        vertical-align: top;\n",
       "    }\n",
       "\n",
       "    .dataframe thead th {\n",
       "        text-align: right;\n",
       "    }\n",
       "</style>\n",
       "<table border=\"1\" class=\"dataframe\">\n",
       "  <thead>\n",
       "    <tr style=\"text-align: right;\">\n",
       "      <th></th>\n",
       "      <th>CreditScore</th>\n",
       "      <th>Geography</th>\n",
       "      <th>Gender</th>\n",
       "      <th>Age</th>\n",
       "      <th>Tenure</th>\n",
       "      <th>Balance</th>\n",
       "      <th>NumOfProducts</th>\n",
       "      <th>HasCrCard</th>\n",
       "      <th>IsActiveMember</th>\n",
       "      <th>EstimatedSalary</th>\n",
       "      <th>Exited</th>\n",
       "    </tr>\n",
       "  </thead>\n",
       "  <tbody>\n",
       "    <tr>\n",
       "      <th>0</th>\n",
       "      <td>619</td>\n",
       "      <td>France</td>\n",
       "      <td>Female</td>\n",
       "      <td>42</td>\n",
       "      <td>2</td>\n",
       "      <td>0.00</td>\n",
       "      <td>1</td>\n",
       "      <td>1</td>\n",
       "      <td>1</td>\n",
       "      <td>101348.88</td>\n",
       "      <td>1</td>\n",
       "    </tr>\n",
       "    <tr>\n",
       "      <th>1</th>\n",
       "      <td>608</td>\n",
       "      <td>Spain</td>\n",
       "      <td>Female</td>\n",
       "      <td>41</td>\n",
       "      <td>1</td>\n",
       "      <td>83807.86</td>\n",
       "      <td>1</td>\n",
       "      <td>0</td>\n",
       "      <td>1</td>\n",
       "      <td>112542.58</td>\n",
       "      <td>0</td>\n",
       "    </tr>\n",
       "    <tr>\n",
       "      <th>2</th>\n",
       "      <td>502</td>\n",
       "      <td>France</td>\n",
       "      <td>Female</td>\n",
       "      <td>42</td>\n",
       "      <td>8</td>\n",
       "      <td>159660.80</td>\n",
       "      <td>3</td>\n",
       "      <td>1</td>\n",
       "      <td>0</td>\n",
       "      <td>113931.57</td>\n",
       "      <td>1</td>\n",
       "    </tr>\n",
       "    <tr>\n",
       "      <th>3</th>\n",
       "      <td>699</td>\n",
       "      <td>France</td>\n",
       "      <td>Female</td>\n",
       "      <td>39</td>\n",
       "      <td>1</td>\n",
       "      <td>0.00</td>\n",
       "      <td>2</td>\n",
       "      <td>0</td>\n",
       "      <td>0</td>\n",
       "      <td>93826.63</td>\n",
       "      <td>0</td>\n",
       "    </tr>\n",
       "    <tr>\n",
       "      <th>4</th>\n",
       "      <td>850</td>\n",
       "      <td>Spain</td>\n",
       "      <td>Female</td>\n",
       "      <td>43</td>\n",
       "      <td>2</td>\n",
       "      <td>125510.82</td>\n",
       "      <td>1</td>\n",
       "      <td>1</td>\n",
       "      <td>1</td>\n",
       "      <td>79084.10</td>\n",
       "      <td>0</td>\n",
       "    </tr>\n",
       "  </tbody>\n",
       "</table>\n",
       "</div>"
      ],
      "text/plain": [
       "   CreditScore Geography  Gender  Age  Tenure    Balance  NumOfProducts  \\\n",
       "0          619    France  Female   42       2       0.00              1   \n",
       "1          608     Spain  Female   41       1   83807.86              1   \n",
       "2          502    France  Female   42       8  159660.80              3   \n",
       "3          699    France  Female   39       1       0.00              2   \n",
       "4          850     Spain  Female   43       2  125510.82              1   \n",
       "\n",
       "   HasCrCard  IsActiveMember  EstimatedSalary  Exited  \n",
       "0          1               1        101348.88       1  \n",
       "1          0               1        112542.58       0  \n",
       "2          1               0        113931.57       1  \n",
       "3          0               0         93826.63       0  \n",
       "4          1               1         79084.10       0  "
      ]
     },
     "execution_count": 23,
     "metadata": {},
     "output_type": "execute_result"
    }
   ],
   "source": [
    "# Removing the unwanted columns like RowNumber , CustomerId, Surname...\n",
    "df = df.drop(['RowNumber','CustomerId','Surname'],axis=1)\n",
    "df.head()"
   ]
  },
  {
   "cell_type": "code",
   "execution_count": 63,
   "metadata": {},
   "outputs": [
    {
     "data": {
      "text/plain": [
       "<AxesSubplot:>"
      ]
     },
     "execution_count": 63,
     "metadata": {},
     "output_type": "execute_result"
    },
    {
     "data": {
      "image/png": "[encoded data removed]",
      "text/plain": [
       "<Figure size 720x432 with 2 Axes>"
      ]
     },
     "metadata": {
      "needs_background": "light"
     },
     "output_type": "display_data"
    }
   ],
   "source": [
    "plt.figure(figsize=(10,6))\n",
    "sns.heatmap(df.corr(),annot=True)"
   ]
  },
  {
   "cell_type": "code",
   "execution_count": 24,
   "metadata": {},
   "outputs": [
    {
     "data": {
      "text/html": [
       "<div>\n",
       "<style scoped>\n",
       "    .dataframe tbody tr th:only-of-type {\n",
       "        vertical-align: middle;\n",
       "    }\n",
       "\n",
       "    .dataframe tbody tr th {\n",
       "        vertical-align: top;\n",
       "    }\n",
       "\n",
       "    .dataframe thead th {\n",
       "        text-align: right;\n",
       "    }\n",
       "</style>\n",
       "<table border=\"1\" class=\"dataframe\">\n",
       "  <thead>\n",
       "    <tr style=\"text-align: right;\">\n",
       "      <th></th>\n",
       "      <th>CreditScore</th>\n",
       "      <th>Geography</th>\n",
       "      <th>Gender</th>\n",
       "      <th>Age</th>\n",
       "      <th>Tenure</th>\n",
       "      <th>Balance</th>\n",
       "      <th>NumOfProducts</th>\n",
       "      <th>HasCrCard</th>\n",
       "      <th>IsActiveMember</th>\n",
       "      <th>EstimatedSalary</th>\n",
       "    </tr>\n",
       "  </thead>\n",
       "  <tbody>\n",
       "    <tr>\n",
       "      <th>0</th>\n",
       "      <td>619</td>\n",
       "      <td>France</td>\n",
       "      <td>Female</td>\n",
       "      <td>42</td>\n",
       "      <td>2</td>\n",
       "      <td>0.00</td>\n",
       "      <td>1</td>\n",
       "      <td>1</td>\n",
       "      <td>1</td>\n",
       "      <td>101348.88</td>\n",
       "    </tr>\n",
       "    <tr>\n",
       "      <th>1</th>\n",
       "      <td>608</td>\n",
       "      <td>Spain</td>\n",
       "      <td>Female</td>\n",
       "      <td>41</td>\n",
       "      <td>1</td>\n",
       "      <td>83807.86</td>\n",
       "      <td>1</td>\n",
       "      <td>0</td>\n",
       "      <td>1</td>\n",
       "      <td>112542.58</td>\n",
       "    </tr>\n",
       "    <tr>\n",
       "      <th>2</th>\n",
       "      <td>502</td>\n",
       "      <td>France</td>\n",
       "      <td>Female</td>\n",
       "      <td>42</td>\n",
       "      <td>8</td>\n",
       "      <td>159660.80</td>\n",
       "      <td>3</td>\n",
       "      <td>1</td>\n",
       "      <td>0</td>\n",
       "      <td>113931.57</td>\n",
       "    </tr>\n",
       "    <tr>\n",
       "      <th>3</th>\n",
       "      <td>699</td>\n",
       "      <td>France</td>\n",
       "      <td>Female</td>\n",
       "      <td>39</td>\n",
       "      <td>1</td>\n",
       "      <td>0.00</td>\n",
       "      <td>2</td>\n",
       "      <td>0</td>\n",
       "      <td>0</td>\n",
       "      <td>93826.63</td>\n",
       "    </tr>\n",
       "    <tr>\n",
       "      <th>4</th>\n",
       "      <td>850</td>\n",
       "      <td>Spain</td>\n",
       "      <td>Female</td>\n",
       "      <td>43</td>\n",
       "      <td>2</td>\n",
       "      <td>125510.82</td>\n",
       "      <td>1</td>\n",
       "      <td>1</td>\n",
       "      <td>1</td>\n",
       "      <td>79084.10</td>\n",
       "    </tr>\n",
       "  </tbody>\n",
       "</table>\n",
       "</div>"
      ],
      "text/plain": [
       "   CreditScore Geography  Gender  Age  Tenure    Balance  NumOfProducts  \\\n",
       "0          619    France  Female   42       2       0.00              1   \n",
       "1          608     Spain  Female   41       1   83807.86              1   \n",
       "2          502    France  Female   42       8  159660.80              3   \n",
       "3          699    France  Female   39       1       0.00              2   \n",
       "4          850     Spain  Female   43       2  125510.82              1   \n",
       "\n",
       "   HasCrCard  IsActiveMember  EstimatedSalary  \n",
       "0          1               1        101348.88  \n",
       "1          0               1        112542.58  \n",
       "2          1               0        113931.57  \n",
       "3          0               0         93826.63  \n",
       "4          1               1         79084.10  "
      ]
     },
     "execution_count": 24,
     "metadata": {},
     "output_type": "execute_result"
    }
   ],
   "source": [
    "# Dividing into independent and dependent variables\n",
    "X = df.drop('Exited',axis=1)\n",
    "y = df['Exited']\n",
    "X.head()"
   ]
  },
  {
   "cell_type": "code",
   "execution_count": 26,
   "metadata": {},
   "outputs": [
    {
     "data": {
      "text/plain": [
       "France     5014\n",
       "Germany    2509\n",
       "Spain      2477\n",
       "Name: Geography, dtype: int64"
      ]
     },
     "execution_count": 26,
     "metadata": {},
     "output_type": "execute_result"
    }
   ],
   "source": [
    "df['Geography'].value_counts()"
   ]
  },
  {
   "cell_type": "code",
   "execution_count": 27,
   "metadata": {},
   "outputs": [
    {
     "data": {
      "text/plain": [
       "Male      5457\n",
       "Female    4543\n",
       "Name: Gender, dtype: int64"
      ]
     },
     "execution_count": 27,
     "metadata": {},
     "output_type": "execute_result"
    }
   ],
   "source": [
    "df['Gender'].value_counts()"
   ]
  },
  {
   "cell_type": "code",
   "execution_count": 35,
   "metadata": {},
   "outputs": [],
   "source": [
    "# We have 2 Categorical features... Geography and Gender...since they are the nominal categorical variables so we will\n",
    "# do one hot encoding with them\n",
    "\n",
    "gender = pd.get_dummies(df['Gender'],drop_first=True)\n",
    "states = pd.get_dummies(df['Geography'],drop_first=True)\n"
   ]
  },
  {
   "cell_type": "code",
   "execution_count": 36,
   "metadata": {},
   "outputs": [
    {
     "data": {
      "text/plain": [
       "pandas.core.frame.DataFrame"
      ]
     },
     "execution_count": 36,
     "metadata": {},
     "output_type": "execute_result"
    }
   ],
   "source": [
    "type(gender)"
   ]
  },
  {
   "cell_type": "code",
   "execution_count": 37,
   "metadata": {},
   "outputs": [
    {
     "data": {
      "text/html": [
       "<div>\n",
       "<style scoped>\n",
       "    .dataframe tbody tr th:only-of-type {\n",
       "        vertical-align: middle;\n",
       "    }\n",
       "\n",
       "    .dataframe tbody tr th {\n",
       "        vertical-align: top;\n",
       "    }\n",
       "\n",
       "    .dataframe thead th {\n",
       "        text-align: right;\n",
       "    }\n",
       "</style>\n",
       "<table border=\"1\" class=\"dataframe\">\n",
       "  <thead>\n",
       "    <tr style=\"text-align: right;\">\n",
       "      <th></th>\n",
       "      <th>CreditScore</th>\n",
       "      <th>Age</th>\n",
       "      <th>Tenure</th>\n",
       "      <th>Balance</th>\n",
       "      <th>NumOfProducts</th>\n",
       "      <th>HasCrCard</th>\n",
       "      <th>IsActiveMember</th>\n",
       "      <th>EstimatedSalary</th>\n",
       "      <th>Male</th>\n",
       "      <th>Germany</th>\n",
       "      <th>Spain</th>\n",
       "    </tr>\n",
       "  </thead>\n",
       "  <tbody>\n",
       "    <tr>\n",
       "      <th>0</th>\n",
       "      <td>619</td>\n",
       "      <td>42</td>\n",
       "      <td>2</td>\n",
       "      <td>0.00</td>\n",
       "      <td>1</td>\n",
       "      <td>1</td>\n",
       "      <td>1</td>\n",
       "      <td>101348.88</td>\n",
       "      <td>0</td>\n",
       "      <td>0</td>\n",
       "      <td>0</td>\n",
       "    </tr>\n",
       "    <tr>\n",
       "      <th>1</th>\n",
       "      <td>608</td>\n",
       "      <td>41</td>\n",
       "      <td>1</td>\n",
       "      <td>83807.86</td>\n",
       "      <td>1</td>\n",
       "      <td>0</td>\n",
       "      <td>1</td>\n",
       "      <td>112542.58</td>\n",
       "      <td>0</td>\n",
       "      <td>0</td>\n",
       "      <td>1</td>\n",
       "    </tr>\n",
       "    <tr>\n",
       "      <th>2</th>\n",
       "      <td>502</td>\n",
       "      <td>42</td>\n",
       "      <td>8</td>\n",
       "      <td>159660.80</td>\n",
       "      <td>3</td>\n",
       "      <td>1</td>\n",
       "      <td>0</td>\n",
       "      <td>113931.57</td>\n",
       "      <td>0</td>\n",
       "      <td>0</td>\n",
       "      <td>0</td>\n",
       "    </tr>\n",
       "    <tr>\n",
       "      <th>3</th>\n",
       "      <td>699</td>\n",
       "      <td>39</td>\n",
       "      <td>1</td>\n",
       "      <td>0.00</td>\n",
       "      <td>2</td>\n",
       "      <td>0</td>\n",
       "      <td>0</td>\n",
       "      <td>93826.63</td>\n",
       "      <td>0</td>\n",
       "      <td>0</td>\n",
       "      <td>0</td>\n",
       "    </tr>\n",
       "    <tr>\n",
       "      <th>4</th>\n",
       "      <td>850</td>\n",
       "      <td>43</td>\n",
       "      <td>2</td>\n",
       "      <td>125510.82</td>\n",
       "      <td>1</td>\n",
       "      <td>1</td>\n",
       "      <td>1</td>\n",
       "      <td>79084.10</td>\n",
       "      <td>0</td>\n",
       "      <td>0</td>\n",
       "      <td>1</td>\n",
       "    </tr>\n",
       "  </tbody>\n",
       "</table>\n",
       "</div>"
      ],
      "text/plain": [
       "   CreditScore  Age  Tenure    Balance  NumOfProducts  HasCrCard  \\\n",
       "0          619   42       2       0.00              1          1   \n",
       "1          608   41       1   83807.86              1          0   \n",
       "2          502   42       8  159660.80              3          1   \n",
       "3          699   39       1       0.00              2          0   \n",
       "4          850   43       2  125510.82              1          1   \n",
       "\n",
       "   IsActiveMember  EstimatedSalary  Male  Germany  Spain  \n",
       "0               1        101348.88     0        0      0  \n",
       "1               1        112542.58     0        0      1  \n",
       "2               0        113931.57     0        0      0  \n",
       "3               0         93826.63     0        0      0  \n",
       "4               1         79084.10     0        0      1  "
      ]
     },
     "execution_count": 37,
     "metadata": {},
     "output_type": "execute_result"
    }
   ],
   "source": [
    "# Concatinating with our original data frame df and dropping the categorical columns from previous dataframe\n",
    "X = pd.concat([X,gender,states],axis=1)\n",
    "X = X.drop(['Gender','Geography'],axis=1)\n",
    "X.head()"
   ]
  },
  {
   "cell_type": "code",
   "execution_count": 40,
   "metadata": {},
   "outputs": [],
   "source": [
    "# Doing the train test split\n",
    "\n",
    "from sklearn.model_selection import train_test_split\n",
    "\n",
    "X_train, X_test, y_train, y_test = train_test_split(X, y, test_size=0.20, random_state=0)"
   ]
  },
  {
   "cell_type": "markdown",
   "metadata": {},
   "source": [
    "# Feature Scaling"
   ]
  },
  {
   "cell_type": "code",
   "execution_count": 41,
   "metadata": {},
   "outputs": [],
   "source": [
    "from sklearn.preprocessing import StandardScaler\n",
    "sc = StandardScaler()\n",
    "X_train = sc.fit_transform(X_train)\n",
    "X_test = sc.transform(X_test)"
   ]
  },
  {
   "cell_type": "code",
   "execution_count": 50,
   "metadata": {},
   "outputs": [],
   "source": [
    "# Importing all the necessary libraries required for building the ANN\n",
    "import tensorflow as tf\n",
    "from tensorflow import keras\n",
    "from tensorflow.keras import layers\n",
    "from tensorflow.keras.layers import Dense\n",
    "from tensorflow.keras import models\n",
    "from tensorflow.keras.models import Sequential"
   ]
  },
  {
   "cell_type": "code",
   "execution_count": 52,
   "metadata": {
    "scrolled": true
   },
   "outputs": [
    {
     "name": "stdout",
     "output_type": "stream",
     "text": [
      "Train on 6400 samples, validate on 1600 samples\n",
      "Epoch 1/100\n",
      "6400/6400 [==============================] - 4s 684us/sample - loss: 0.5206 - accuracy: 0.7747 - val_loss: 0.4711 - val_accuracy: 0.7969\n",
      "Epoch 2/100\n",
      "6400/6400 [==============================] - 1s 191us/sample - loss: 0.4546 - accuracy: 0.7958 - val_loss: 0.4475 - val_accuracy: 0.7962\n",
      "Epoch 3/100\n",
      "6400/6400 [==============================] - 1s 197us/sample - loss: 0.4381 - accuracy: 0.7959 - val_loss: 0.4361 - val_accuracy: 0.8025\n",
      "Epoch 4/100\n",
      "6400/6400 [==============================] - 1s 194us/sample - loss: 0.4295 - accuracy: 0.8022 - val_loss: 0.4308 - val_accuracy: 0.8062\n",
      "Epoch 5/100\n",
      "6400/6400 [==============================] - 1s 193us/sample - loss: 0.4245 - accuracy: 0.8086 - val_loss: 0.4264 - val_accuracy: 0.8050\n",
      "Epoch 6/100\n",
      "6400/6400 [==============================] - 1s 191us/sample - loss: 0.4202 - accuracy: 0.8142 - val_loss: 0.4224 - val_accuracy: 0.8150\n",
      "Epoch 7/100\n",
      "6400/6400 [==============================] - 1s 194us/sample - loss: 0.4159 - accuracy: 0.8225 - val_loss: 0.4190 - val_accuracy: 0.8219\n",
      "Epoch 8/100\n",
      "6400/6400 [==============================] - 1s 197us/sample - loss: 0.4118 - accuracy: 0.8242 - val_loss: 0.4154 - val_accuracy: 0.8213\n",
      "Epoch 9/100\n",
      "6400/6400 [==============================] - 1s 197us/sample - loss: 0.4073 - accuracy: 0.8266 - val_loss: 0.4106 - val_accuracy: 0.8219\n",
      "Epoch 10/100\n",
      "6400/6400 [==============================] - 1s 195us/sample - loss: 0.4010 - accuracy: 0.8303 - val_loss: 0.4039 - val_accuracy: 0.8256\n",
      "Epoch 11/100\n",
      "6400/6400 [==============================] - 1s 196us/sample - loss: 0.3917 - accuracy: 0.8352 - val_loss: 0.3944 - val_accuracy: 0.8313\n",
      "Epoch 12/100\n",
      "6400/6400 [==============================] - 1s 194us/sample - loss: 0.3798 - accuracy: 0.8406 - val_loss: 0.3815 - val_accuracy: 0.8400\n",
      "Epoch 13/100\n",
      "6400/6400 [==============================] - 1s 193us/sample - loss: 0.3691 - accuracy: 0.8467 - val_loss: 0.3718 - val_accuracy: 0.8444\n",
      "Epoch 14/100\n",
      "6400/6400 [==============================] - 1s 194us/sample - loss: 0.3603 - accuracy: 0.8508 - val_loss: 0.3651 - val_accuracy: 0.8512\n",
      "Epoch 15/100\n",
      "6400/6400 [==============================] - 1s 192us/sample - loss: 0.3533 - accuracy: 0.8561 - val_loss: 0.3594 - val_accuracy: 0.8531\n",
      "Epoch 16/100\n",
      "6400/6400 [==============================] - 1s 196us/sample - loss: 0.3482 - accuracy: 0.8591 - val_loss: 0.3563 - val_accuracy: 0.8600\n",
      "Epoch 17/100\n",
      "6400/6400 [==============================] - 1s 192us/sample - loss: 0.3440 - accuracy: 0.8612 - val_loss: 0.3562 - val_accuracy: 0.8606\n",
      "Epoch 18/100\n",
      "6400/6400 [==============================] - 1s 192us/sample - loss: 0.3418 - accuracy: 0.8609 - val_loss: 0.3535 - val_accuracy: 0.8625\n",
      "Epoch 19/100\n",
      "6400/6400 [==============================] - 1s 191us/sample - loss: 0.3388 - accuracy: 0.8619 - val_loss: 0.3557 - val_accuracy: 0.8619\n",
      "Epoch 20/100\n",
      "6400/6400 [==============================] - 1s 194us/sample - loss: 0.3380 - accuracy: 0.8617 - val_loss: 0.3534 - val_accuracy: 0.8631\n",
      "Epoch 21/100\n",
      "6400/6400 [==============================] - 1s 193us/sample - loss: 0.3379 - accuracy: 0.8616 - val_loss: 0.3517 - val_accuracy: 0.8631\n",
      "Epoch 22/100\n",
      "6400/6400 [==============================] - 1s 193us/sample - loss: 0.3370 - accuracy: 0.8597 - val_loss: 0.3530 - val_accuracy: 0.8644\n",
      "Epoch 23/100\n",
      "6400/6400 [==============================] - 1s 195us/sample - loss: 0.3365 - accuracy: 0.8611 - val_loss: 0.3534 - val_accuracy: 0.8669\n",
      "Epoch 24/100\n",
      "6400/6400 [==============================] - 1s 201us/sample - loss: 0.3359 - accuracy: 0.8628 - val_loss: 0.3518 - val_accuracy: 0.8631\n",
      "Epoch 25/100\n",
      "6400/6400 [==============================] - 1s 191us/sample - loss: 0.3357 - accuracy: 0.8616 - val_loss: 0.3524 - val_accuracy: 0.8631\n",
      "Epoch 26/100\n",
      "6400/6400 [==============================] - 1s 192us/sample - loss: 0.3351 - accuracy: 0.8625 - val_loss: 0.3532 - val_accuracy: 0.8650\n",
      "Epoch 27/100\n",
      "6400/6400 [==============================] - 1s 191us/sample - loss: 0.3352 - accuracy: 0.8630 - val_loss: 0.3517 - val_accuracy: 0.8669\n",
      "Epoch 28/100\n",
      "6400/6400 [==============================] - 1s 192us/sample - loss: 0.3344 - accuracy: 0.8631 - val_loss: 0.3535 - val_accuracy: 0.8681\n",
      "Epoch 29/100\n",
      "6400/6400 [==============================] - 1s 192us/sample - loss: 0.3342 - accuracy: 0.8637 - val_loss: 0.3515 - val_accuracy: 0.8644\n",
      "Epoch 30/100\n",
      "6400/6400 [==============================] - 1s 191us/sample - loss: 0.3343 - accuracy: 0.8623 - val_loss: 0.3511 - val_accuracy: 0.8662\n",
      "Epoch 31/100\n",
      "6400/6400 [==============================] - 1s 196us/sample - loss: 0.3337 - accuracy: 0.8637 - val_loss: 0.3529 - val_accuracy: 0.8681\n",
      "Epoch 32/100\n",
      "6400/6400 [==============================] - 1s 198us/sample - loss: 0.3330 - accuracy: 0.8625 - val_loss: 0.3538 - val_accuracy: 0.8656\n",
      "Epoch 33/100\n",
      "6400/6400 [==============================] - 1s 192us/sample - loss: 0.3338 - accuracy: 0.8627 - val_loss: 0.3516 - val_accuracy: 0.8662\n",
      "Epoch 34/100\n",
      "6400/6400 [==============================] - 1s 194us/sample - loss: 0.3335 - accuracy: 0.8641 - val_loss: 0.3532 - val_accuracy: 0.8656\n",
      "Epoch 35/100\n",
      "6400/6400 [==============================] - 1s 194us/sample - loss: 0.3329 - accuracy: 0.8642 - val_loss: 0.3533 - val_accuracy: 0.8650\n",
      "Epoch 36/100\n",
      "6400/6400 [==============================] - 1s 192us/sample - loss: 0.3329 - accuracy: 0.8620 - val_loss: 0.3516 - val_accuracy: 0.8669\n",
      "Epoch 37/100\n",
      "6400/6400 [==============================] - 1s 192us/sample - loss: 0.3329 - accuracy: 0.8644 - val_loss: 0.3513 - val_accuracy: 0.8650\n",
      "Epoch 38/100\n",
      "6400/6400 [==============================] - 1s 196us/sample - loss: 0.3331 - accuracy: 0.8627 - val_loss: 0.3518 - val_accuracy: 0.8656\n",
      "Epoch 39/100\n",
      "6400/6400 [==============================] - 1s 193us/sample - loss: 0.3327 - accuracy: 0.8653 - val_loss: 0.3531 - val_accuracy: 0.8637\n",
      "Epoch 40/100\n",
      "6400/6400 [==============================] - 1s 191us/sample - loss: 0.3329 - accuracy: 0.8664 - val_loss: 0.3518 - val_accuracy: 0.8644\n",
      "Epoch 41/100\n",
      "6400/6400 [==============================] - 1s 192us/sample - loss: 0.3323 - accuracy: 0.8636 - val_loss: 0.3549 - val_accuracy: 0.8669\n",
      "Epoch 42/100\n",
      "6400/6400 [==============================] - 1s 194us/sample - loss: 0.3324 - accuracy: 0.8625 - val_loss: 0.3514 - val_accuracy: 0.8650\n",
      "Epoch 43/100\n",
      "6400/6400 [==============================] - 1s 191us/sample - loss: 0.3323 - accuracy: 0.8641 - val_loss: 0.3530 - val_accuracy: 0.8669\n",
      "Epoch 44/100\n",
      "6400/6400 [==============================] - 1s 195us/sample - loss: 0.3322 - accuracy: 0.8641 - val_loss: 0.3526 - val_accuracy: 0.8637\n",
      "Epoch 45/100\n",
      "6400/6400 [==============================] - 1s 194us/sample - loss: 0.3323 - accuracy: 0.8637 - val_loss: 0.3521 - val_accuracy: 0.8631\n",
      "Epoch 46/100\n",
      "6400/6400 [==============================] - 1s 195us/sample - loss: 0.3317 - accuracy: 0.8633 - val_loss: 0.3522 - val_accuracy: 0.8650\n",
      "Epoch 47/100\n",
      "6400/6400 [==============================] - 1s 192us/sample - loss: 0.3324 - accuracy: 0.8644 - val_loss: 0.3520 - val_accuracy: 0.8637\n",
      "Epoch 48/100\n",
      "6400/6400 [==============================] - 1s 200us/sample - loss: 0.3321 - accuracy: 0.8636 - val_loss: 0.3521 - val_accuracy: 0.8662\n",
      "Epoch 49/100\n",
      "6400/6400 [==============================] - 1s 193us/sample - loss: 0.3321 - accuracy: 0.8648 - val_loss: 0.3521 - val_accuracy: 0.8637\n",
      "Epoch 50/100\n",
      "6400/6400 [==============================] - 1s 191us/sample - loss: 0.3316 - accuracy: 0.8639 - val_loss: 0.3542 - val_accuracy: 0.8656\n",
      "Epoch 51/100\n",
      "6400/6400 [==============================] - 1s 197us/sample - loss: 0.3325 - accuracy: 0.8642 - val_loss: 0.3520 - val_accuracy: 0.8662\n",
      "Epoch 52/100\n",
      "6400/6400 [==============================] - 1s 193us/sample - loss: 0.3320 - accuracy: 0.8645 - val_loss: 0.3524 - val_accuracy: 0.8644\n",
      "Epoch 53/100\n",
      "6400/6400 [==============================] - 1s 197us/sample - loss: 0.3325 - accuracy: 0.8630 - val_loss: 0.3518 - val_accuracy: 0.8644\n",
      "Epoch 54/100\n",
      "6400/6400 [==============================] - 1s 194us/sample - loss: 0.3320 - accuracy: 0.8644 - val_loss: 0.3520 - val_accuracy: 0.8637\n",
      "Epoch 55/100\n"
     ]
    },
    {
     "name": "stdout",
     "output_type": "stream",
     "text": [
      "6400/6400 [==============================] - 1s 190us/sample - loss: 0.3318 - accuracy: 0.8631 - val_loss: 0.3524 - val_accuracy: 0.8631\n",
      "Epoch 56/100\n",
      "6400/6400 [==============================] - 1s 190us/sample - loss: 0.3318 - accuracy: 0.8625 - val_loss: 0.3522 - val_accuracy: 0.8637\n",
      "Epoch 57/100\n",
      "6400/6400 [==============================] - 1s 191us/sample - loss: 0.3315 - accuracy: 0.8630 - val_loss: 0.3524 - val_accuracy: 0.8637\n",
      "Epoch 58/100\n",
      "6400/6400 [==============================] - 1s 189us/sample - loss: 0.3315 - accuracy: 0.8650 - val_loss: 0.3525 - val_accuracy: 0.8662\n",
      "Epoch 59/100\n",
      "6400/6400 [==============================] - 1s 190us/sample - loss: 0.3320 - accuracy: 0.8648 - val_loss: 0.3523 - val_accuracy: 0.8656\n",
      "Epoch 60/100\n",
      "6400/6400 [==============================] - 1s 189us/sample - loss: 0.3315 - accuracy: 0.8645 - val_loss: 0.3530 - val_accuracy: 0.8662\n",
      "Epoch 61/100\n",
      "6400/6400 [==============================] - 1s 195us/sample - loss: 0.3321 - accuracy: 0.8631 - val_loss: 0.3533 - val_accuracy: 0.8625\n",
      "Epoch 62/100\n",
      "6400/6400 [==============================] - 1s 190us/sample - loss: 0.3318 - accuracy: 0.8642 - val_loss: 0.3538 - val_accuracy: 0.8600\n",
      "Epoch 63/100\n",
      "6400/6400 [==============================] - 1s 191us/sample - loss: 0.3316 - accuracy: 0.8637 - val_loss: 0.3529 - val_accuracy: 0.8656\n",
      "Epoch 64/100\n",
      "6400/6400 [==============================] - 1s 195us/sample - loss: 0.3314 - accuracy: 0.8634 - val_loss: 0.3527 - val_accuracy: 0.8656\n",
      "Epoch 65/100\n",
      "6400/6400 [==============================] - 1s 196us/sample - loss: 0.3315 - accuracy: 0.8639 - val_loss: 0.3527 - val_accuracy: 0.8637\n",
      "Epoch 66/100\n",
      "6400/6400 [==============================] - 1s 195us/sample - loss: 0.3313 - accuracy: 0.8628 - val_loss: 0.3523 - val_accuracy: 0.8662\n",
      "Epoch 67/100\n",
      "6400/6400 [==============================] - 1s 195us/sample - loss: 0.3306 - accuracy: 0.8637 - val_loss: 0.3512 - val_accuracy: 0.8637\n",
      "Epoch 68/100\n",
      "6400/6400 [==============================] - 1s 192us/sample - loss: 0.3310 - accuracy: 0.8655 - val_loss: 0.3524 - val_accuracy: 0.8662\n",
      "Epoch 69/100\n",
      "6400/6400 [==============================] - 1s 191us/sample - loss: 0.3315 - accuracy: 0.8631 - val_loss: 0.3527 - val_accuracy: 0.8650\n",
      "Epoch 70/100\n",
      "6400/6400 [==============================] - 1s 193us/sample - loss: 0.3306 - accuracy: 0.8634 - val_loss: 0.3515 - val_accuracy: 0.8650\n",
      "Epoch 71/100\n",
      "6400/6400 [==============================] - 1s 197us/sample - loss: 0.3310 - accuracy: 0.8633 - val_loss: 0.3517 - val_accuracy: 0.8644\n",
      "Epoch 72/100\n",
      "6400/6400 [==============================] - 1s 194us/sample - loss: 0.3305 - accuracy: 0.8631 - val_loss: 0.3504 - val_accuracy: 0.8650\n",
      "Epoch 73/100\n",
      "6400/6400 [==============================] - 1s 192us/sample - loss: 0.3308 - accuracy: 0.8634 - val_loss: 0.3521 - val_accuracy: 0.8675\n",
      "Epoch 74/100\n",
      "6400/6400 [==============================] - 1s 192us/sample - loss: 0.3310 - accuracy: 0.8631 - val_loss: 0.3521 - val_accuracy: 0.8687\n",
      "Epoch 75/100\n",
      "6400/6400 [==============================] - 1s 192us/sample - loss: 0.3308 - accuracy: 0.8636 - val_loss: 0.3528 - val_accuracy: 0.8656\n",
      "Epoch 76/100\n",
      "6400/6400 [==============================] - 1s 195us/sample - loss: 0.3307 - accuracy: 0.8645 - val_loss: 0.3527 - val_accuracy: 0.8650\n",
      "Epoch 77/100\n",
      "6400/6400 [==============================] - 1s 197us/sample - loss: 0.3312 - accuracy: 0.8625 - val_loss: 0.3523 - val_accuracy: 0.8669\n",
      "Epoch 78/100\n",
      "6400/6400 [==============================] - 1s 194us/sample - loss: 0.3309 - accuracy: 0.8637 - val_loss: 0.3539 - val_accuracy: 0.8625\n",
      "Epoch 79/100\n",
      "6400/6400 [==============================] - 1s 197us/sample - loss: 0.3308 - accuracy: 0.8639 - val_loss: 0.3509 - val_accuracy: 0.8637\n",
      "Epoch 80/100\n",
      "6400/6400 [==============================] - 1s 194us/sample - loss: 0.3312 - accuracy: 0.8631 - val_loss: 0.3523 - val_accuracy: 0.8650\n",
      "Epoch 81/100\n",
      "6400/6400 [==============================] - 1s 195us/sample - loss: 0.3307 - accuracy: 0.8637 - val_loss: 0.3514 - val_accuracy: 0.8650\n",
      "Epoch 82/100\n",
      "6400/6400 [==============================] - 1s 193us/sample - loss: 0.3310 - accuracy: 0.8637 - val_loss: 0.3510 - val_accuracy: 0.8644\n",
      "Epoch 83/100\n",
      "6400/6400 [==============================] - 1s 191us/sample - loss: 0.3309 - accuracy: 0.8633 - val_loss: 0.3518 - val_accuracy: 0.8637\n",
      "Epoch 84/100\n",
      "6400/6400 [==============================] - 1s 192us/sample - loss: 0.3308 - accuracy: 0.8641 - val_loss: 0.3520 - val_accuracy: 0.8631\n",
      "Epoch 85/100\n",
      "6400/6400 [==============================] - 1s 189us/sample - loss: 0.3310 - accuracy: 0.8623 - val_loss: 0.3516 - val_accuracy: 0.8662\n",
      "Epoch 86/100\n",
      "6400/6400 [==============================] - 1s 192us/sample - loss: 0.3306 - accuracy: 0.8642 - val_loss: 0.3518 - val_accuracy: 0.8631\n",
      "Epoch 87/100\n",
      "6400/6400 [==============================] - 1s 195us/sample - loss: 0.3307 - accuracy: 0.8623 - val_loss: 0.3520 - val_accuracy: 0.8662\n",
      "Epoch 88/100\n",
      "6400/6400 [==============================] - 1s 192us/sample - loss: 0.3310 - accuracy: 0.8633 - val_loss: 0.3528 - val_accuracy: 0.8656\n",
      "Epoch 89/100\n",
      "6400/6400 [==============================] - 1s 195us/sample - loss: 0.3298 - accuracy: 0.8627 - val_loss: 0.3522 - val_accuracy: 0.8644\n",
      "Epoch 90/100\n",
      "6400/6400 [==============================] - 1s 192us/sample - loss: 0.3308 - accuracy: 0.8630 - val_loss: 0.3526 - val_accuracy: 0.8631\n",
      "Epoch 91/100\n",
      "6400/6400 [==============================] - 1s 198us/sample - loss: 0.3305 - accuracy: 0.8637 - val_loss: 0.3550 - val_accuracy: 0.8637\n",
      "Epoch 92/100\n",
      "6400/6400 [==============================] - 1s 192us/sample - loss: 0.3307 - accuracy: 0.8636 - val_loss: 0.3525 - val_accuracy: 0.8619\n",
      "Epoch 93/100\n",
      "6400/6400 [==============================] - 1s 193us/sample - loss: 0.3304 - accuracy: 0.8648 - val_loss: 0.3523 - val_accuracy: 0.8619\n",
      "Epoch 94/100\n",
      "6400/6400 [==============================] - 1s 193us/sample - loss: 0.3309 - accuracy: 0.8634 - val_loss: 0.3521 - val_accuracy: 0.8644\n",
      "Epoch 95/100\n",
      "6400/6400 [==============================] - 1s 197us/sample - loss: 0.3307 - accuracy: 0.8642 - val_loss: 0.3520 - val_accuracy: 0.8644\n",
      "Epoch 96/100\n",
      "6400/6400 [==============================] - 1s 193us/sample - loss: 0.3302 - accuracy: 0.8619 - val_loss: 0.3517 - val_accuracy: 0.8644\n",
      "Epoch 97/100\n",
      "6400/6400 [==============================] - 1s 195us/sample - loss: 0.3302 - accuracy: 0.8639 - val_loss: 0.3519 - val_accuracy: 0.8662\n",
      "Epoch 98/100\n",
      "6400/6400 [==============================] - 1s 190us/sample - loss: 0.3303 - accuracy: 0.8642 - val_loss: 0.3519 - val_accuracy: 0.8625\n",
      "Epoch 99/100\n",
      "6400/6400 [==============================] - 1s 197us/sample - loss: 0.3308 - accuracy: 0.8619 - val_loss: 0.3529 - val_accuracy: 0.8631\n",
      "Epoch 100/100\n",
      "6400/6400 [==============================] - 1s 201us/sample - loss: 0.3307 - accuracy: 0.8627 - val_loss: 0.3516 - val_accuracy: 0.8619\n"
     ]
    }
   ],
   "source": [
    "classifier = Sequential() #initializing the ANN\n",
    "classifier.add(Dense(6,activation='relu',kernel_initializer='he_uniform',input_dim=11))\n",
    "classifier.add(Dense(6,activation='relu',kernel_initializer='he_uniform'))\n",
    "classifier.add(Dense(1,activation='sigmoid',kernel_initializer='glorot_uniform'))\n",
    "\n",
    "# compiling the ANN\n",
    "classifier.compile(optimizer='Adam',\n",
    "                  loss='binary_crossentropy',\n",
    "                   metrics=['accuracy']\n",
    "                  )\n",
    "\n",
    "model_history = classifier.fit(X_train,y_train,validation_split=0.20,batch_size=10,epochs=100)\n"
   ]
  },
  {
   "cell_type": "markdown",
   "metadata": {},
   "source": [
    "# Visualizing the loss and accuracy"
   ]
  },
  {
   "cell_type": "code",
   "execution_count": 60,
   "metadata": {},
   "outputs": [
    {
     "data": {
      "text/plain": [
       "<matplotlib.legend.Legend at 0x245ff54b208>"
      ]
     },
     "execution_count": 60,
     "metadata": {},
     "output_type": "execute_result"
    },
    {
     "data": {
      "image/png": "[encoded data removed]",
      "text/plain": [
       "<Figure size 720x432 with 1 Axes>"
      ]
     },
     "metadata": {
      "needs_background": "light"
     },
     "output_type": "display_data"
    }
   ],
   "source": [
    "plt.figure(figsize=(10,6))\n",
    "plt.plot(model_history.history['accuracy'])\n",
    "plt.plot(model_history.history['val_accuracy'])\n",
    "plt.xlabel('No. of Epochs')\n",
    "plt.ylabel('Accuracy')\n",
    "plt.legend(['Train','Test'],loc='best')"
   ]
  },
  {
   "cell_type": "code",
   "execution_count": 61,
   "metadata": {},
   "outputs": [
    {
     "data": {
      "text/plain": [
       "<matplotlib.legend.Legend at 0x245ffa69d88>"
      ]
     },
     "execution_count": 61,
     "metadata": {},
     "output_type": "execute_result"
    },
    {
     "data": {
      "image/png": "[encoded data removed]",
      "text/plain": [
       "<Figure size 720x432 with 1 Axes>"
      ]
     },
     "metadata": {
      "needs_background": "light"
     },
     "output_type": "display_data"
    }
   ],
   "source": [
    "plt.figure(figsize=(10,6))\n",
    "plt.plot(model_history.history['loss'])\n",
    "plt.plot(model_history.history['val_loss'])\n",
    "plt.xlabel('No. of Epochs')\n",
    "plt.ylabel('Loss')\n",
    "plt.legend(['Train','Test'],loc='best')"
   ]
  },
  {
   "cell_type": "markdown",
   "metadata": {},
   "source": [
    "#### Important Points to consider :\n",
    "- Here in this dataset we could try many permutation combinations like adding more layers, or adding a Dropout layers etc.\n",
    "- We can also fix the imbalance dataset problem by OverSampling methods like...RandomOverSampler or SMOTETomek"
   ]
  },
  {
   "cell_type": "markdown",
   "metadata": {},
   "source": [
    "# Prediction"
   ]
  },
  {
   "cell_type": "code",
   "execution_count": 65,
   "metadata": {},
   "outputs": [
    {
     "data": {
      "text/plain": [
       "array([[1523,   72],\n",
       "       [ 205,  200]], dtype=int64)"
      ]
     },
     "execution_count": 65,
     "metadata": {},
     "output_type": "execute_result"
    }
   ],
   "source": [
    "# Prediction on the test set\n",
    "from sklearn.metrics import classification_report,confusion_matrix\n",
    "y_pred = classifier.predict(X_test)\n",
    "y_pred = (y_pred>0.5)\n",
    "\n",
    "cm = confusion_matrix(y_test,y_pred)\n",
    "cm"
   ]
  },
  {
   "cell_type": "code",
   "execution_count": 67,
   "metadata": {},
   "outputs": [
    {
     "data": {
      "text/plain": [
       "<AxesSubplot:>"
      ]
     },
     "execution_count": 67,
     "metadata": {},
     "output_type": "execute_result"
    },
    {
     "data": {
      "image/png": "[encoded data removed]",
      "text/plain": [
       "<Figure size 432x288 with 2 Axes>"
      ]
     },
     "metadata": {
      "needs_background": "light"
     },
     "output_type": "display_data"
    }
   ],
   "source": [
    "sns.heatmap(cm,annot=True,fmt='g',cmap='Blues')"
   ]
  },
  {
   "cell_type": "code",
   "execution_count": null,
   "metadata": {},
   "outputs": [],
   "source": []
  },
  {
   "cell_type": "code",
   "execution_count": null,
   "metadata": {},
   "outputs": [],
   "source": []
  }
 ],
 "metadata": {
  "kernelspec": {
   "display_name": "Python 3",
   "language": "python",
   "name": "python3"
  },
  "language_info": {
   "codemirror_mode": {
    "name": "ipython",
    "version": 3
   },
   "file_extension": ".py",
   "mimetype": "text/x-python",
   "name": "python",
   "nbconvert_exporter": "python",
   "pygments_lexer": "ipython3",
   "version": "3.7.9"
  }
 },
 "nbformat": 4,
 "nbformat_minor": 4
}
