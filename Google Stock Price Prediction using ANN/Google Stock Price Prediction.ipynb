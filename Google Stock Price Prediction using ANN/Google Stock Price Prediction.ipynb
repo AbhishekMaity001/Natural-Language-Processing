{
 "cells": [
  {
   "cell_type": "markdown",
   "metadata": {},
   "source": [
    "# Google Stock Price Prediction\n",
    "\n",
    "You can download the dataset from kaggle : https://www.kaggle.com/ptheru/googledta"
   ]
  },
  {
   "cell_type": "code",
   "execution_count": 1,
   "metadata": {},
   "outputs": [],
   "source": [
    "# This code is related to limiting the tensorflow GPU ---------------------------\n",
    "\n",
    "gpus = tf.config.experimental.list_physical_devices('GPU')\n",
    "if gpus:\n",
    "    try:\n",
    "        # Currently, memory growth needs to be the same across GPUs\n",
    "        for gpu in gpus:\n",
    "            tf.config.experimental.set_memory_growth(gpu, True)\n",
    "            logical_gpus = tf.config.experimental.list_logical_devices('GPU')\n",
    "            print(len(gpus), \"Physical GPUs,\", len(logical_gpus), \"Logical GPUs\")\n",
    "    except RuntimeError as e:\n",
    "        # Memory growth must be set before GPUs have been initialized\n",
    "        print(e)"
   ]
  },
  {
   "cell_type": "code",
   "execution_count": 2,
   "metadata": {},
   "outputs": [],
   "source": [
    "# importing all the necessary libraries\n",
    "import numpy as np\n",
    "import pandas as pd\n",
    "import matplotlib.pyplot as plt\n",
    "import seaborn as sns\n",
    "%matplotlib inline\n"
   ]
  },
  {
   "cell_type": "code",
   "execution_count": 3,
   "metadata": {},
   "outputs": [
    {
     "data": {
      "text/html": [
       "<div>\n",
       "<style scoped>\n",
       "    .dataframe tbody tr th:only-of-type {\n",
       "        vertical-align: middle;\n",
       "    }\n",
       "\n",
       "    .dataframe tbody tr th {\n",
       "        vertical-align: top;\n",
       "    }\n",
       "\n",
       "    .dataframe thead th {\n",
       "        text-align: right;\n",
       "    }\n",
       "</style>\n",
       "<table border=\"1\" class=\"dataframe\">\n",
       "  <thead>\n",
       "    <tr style=\"text-align: right;\">\n",
       "      <th></th>\n",
       "      <th>Date</th>\n",
       "      <th>Open</th>\n",
       "      <th>High</th>\n",
       "      <th>Low</th>\n",
       "      <th>Close</th>\n",
       "      <th>Adj Close</th>\n",
       "      <th>Volume</th>\n",
       "    </tr>\n",
       "  </thead>\n",
       "  <tbody>\n",
       "    <tr>\n",
       "      <th>0</th>\n",
       "      <td>2013-01-02</td>\n",
       "      <td>357.385559</td>\n",
       "      <td>361.151062</td>\n",
       "      <td>355.959839</td>\n",
       "      <td>359.288177</td>\n",
       "      <td>359.288177</td>\n",
       "      <td>5115500</td>\n",
       "    </tr>\n",
       "    <tr>\n",
       "      <th>1</th>\n",
       "      <td>2013-01-03</td>\n",
       "      <td>360.122742</td>\n",
       "      <td>363.600128</td>\n",
       "      <td>358.031342</td>\n",
       "      <td>359.496826</td>\n",
       "      <td>359.496826</td>\n",
       "      <td>4666500</td>\n",
       "    </tr>\n",
       "    <tr>\n",
       "      <th>2</th>\n",
       "      <td>2013-01-04</td>\n",
       "      <td>362.313507</td>\n",
       "      <td>368.339294</td>\n",
       "      <td>361.488861</td>\n",
       "      <td>366.600616</td>\n",
       "      <td>366.600616</td>\n",
       "      <td>5562800</td>\n",
       "    </tr>\n",
       "    <tr>\n",
       "      <th>3</th>\n",
       "      <td>2013-01-07</td>\n",
       "      <td>365.348755</td>\n",
       "      <td>367.301056</td>\n",
       "      <td>362.929504</td>\n",
       "      <td>365.001007</td>\n",
       "      <td>365.001007</td>\n",
       "      <td>3332900</td>\n",
       "    </tr>\n",
       "    <tr>\n",
       "      <th>4</th>\n",
       "      <td>2013-01-08</td>\n",
       "      <td>365.393463</td>\n",
       "      <td>365.771027</td>\n",
       "      <td>359.874359</td>\n",
       "      <td>364.280701</td>\n",
       "      <td>364.280701</td>\n",
       "      <td>3373900</td>\n",
       "    </tr>\n",
       "  </tbody>\n",
       "</table>\n",
       "</div>"
      ],
      "text/plain": [
       "         Date        Open        High         Low       Close   Adj Close  \\\n",
       "0  2013-01-02  357.385559  361.151062  355.959839  359.288177  359.288177   \n",
       "1  2013-01-03  360.122742  363.600128  358.031342  359.496826  359.496826   \n",
       "2  2013-01-04  362.313507  368.339294  361.488861  366.600616  366.600616   \n",
       "3  2013-01-07  365.348755  367.301056  362.929504  365.001007  365.001007   \n",
       "4  2013-01-08  365.393463  365.771027  359.874359  364.280701  364.280701   \n",
       "\n",
       "    Volume  \n",
       "0  5115500  \n",
       "1  4666500  \n",
       "2  5562800  \n",
       "3  3332900  \n",
       "4  3373900  "
      ]
     },
     "execution_count": 3,
     "metadata": {},
     "output_type": "execute_result"
    }
   ],
   "source": [
    "df = pd.read_csv('google_data_trainset.csv')\n",
    "df.head()"
   ]
  },
  {
   "cell_type": "code",
   "execution_count": 4,
   "metadata": {},
   "outputs": [
    {
     "data": {
      "text/html": [
       "<div>\n",
       "<style scoped>\n",
       "    .dataframe tbody tr th:only-of-type {\n",
       "        vertical-align: middle;\n",
       "    }\n",
       "\n",
       "    .dataframe tbody tr th {\n",
       "        vertical-align: top;\n",
       "    }\n",
       "\n",
       "    .dataframe thead th {\n",
       "        text-align: right;\n",
       "    }\n",
       "</style>\n",
       "<table border=\"1\" class=\"dataframe\">\n",
       "  <thead>\n",
       "    <tr style=\"text-align: right;\">\n",
       "      <th></th>\n",
       "      <th>Date</th>\n",
       "      <th>Open</th>\n",
       "      <th>High</th>\n",
       "      <th>Low</th>\n",
       "      <th>Close</th>\n",
       "      <th>Adj Close</th>\n",
       "      <th>Volume</th>\n",
       "    </tr>\n",
       "  </thead>\n",
       "  <tbody>\n",
       "    <tr>\n",
       "      <th>1254</th>\n",
       "      <td>2017-12-22</td>\n",
       "      <td>1061.109985</td>\n",
       "      <td>1064.199951</td>\n",
       "      <td>1059.439941</td>\n",
       "      <td>1060.119995</td>\n",
       "      <td>1060.119995</td>\n",
       "      <td>755100</td>\n",
       "    </tr>\n",
       "    <tr>\n",
       "      <th>1255</th>\n",
       "      <td>2017-12-26</td>\n",
       "      <td>1058.069946</td>\n",
       "      <td>1060.119995</td>\n",
       "      <td>1050.199951</td>\n",
       "      <td>1056.739990</td>\n",
       "      <td>1056.739990</td>\n",
       "      <td>760600</td>\n",
       "    </tr>\n",
       "    <tr>\n",
       "      <th>1256</th>\n",
       "      <td>2017-12-27</td>\n",
       "      <td>1057.390015</td>\n",
       "      <td>1058.369995</td>\n",
       "      <td>1048.050049</td>\n",
       "      <td>1049.369995</td>\n",
       "      <td>1049.369995</td>\n",
       "      <td>1271900</td>\n",
       "    </tr>\n",
       "    <tr>\n",
       "      <th>1257</th>\n",
       "      <td>2017-12-28</td>\n",
       "      <td>1051.599976</td>\n",
       "      <td>1054.750000</td>\n",
       "      <td>1044.770020</td>\n",
       "      <td>1048.140015</td>\n",
       "      <td>1048.140015</td>\n",
       "      <td>837100</td>\n",
       "    </tr>\n",
       "    <tr>\n",
       "      <th>1258</th>\n",
       "      <td>2017-12-29</td>\n",
       "      <td>1046.719971</td>\n",
       "      <td>1049.699951</td>\n",
       "      <td>1044.900024</td>\n",
       "      <td>1046.400024</td>\n",
       "      <td>1046.400024</td>\n",
       "      <td>887500</td>\n",
       "    </tr>\n",
       "  </tbody>\n",
       "</table>\n",
       "</div>"
      ],
      "text/plain": [
       "            Date         Open         High          Low        Close  \\\n",
       "1254  2017-12-22  1061.109985  1064.199951  1059.439941  1060.119995   \n",
       "1255  2017-12-26  1058.069946  1060.119995  1050.199951  1056.739990   \n",
       "1256  2017-12-27  1057.390015  1058.369995  1048.050049  1049.369995   \n",
       "1257  2017-12-28  1051.599976  1054.750000  1044.770020  1048.140015   \n",
       "1258  2017-12-29  1046.719971  1049.699951  1044.900024  1046.400024   \n",
       "\n",
       "        Adj Close   Volume  \n",
       "1254  1060.119995   755100  \n",
       "1255  1056.739990   760600  \n",
       "1256  1049.369995  1271900  \n",
       "1257  1048.140015   837100  \n",
       "1258  1046.400024   887500  "
      ]
     },
     "execution_count": 4,
     "metadata": {},
     "output_type": "execute_result"
    }
   ],
   "source": [
    "df.tail()"
   ]
  },
  {
   "cell_type": "code",
   "execution_count": 5,
   "metadata": {},
   "outputs": [
    {
     "data": {
      "text/plain": [
       "(1259, 1)"
      ]
     },
     "execution_count": 5,
     "metadata": {},
     "output_type": "execute_result"
    }
   ],
   "source": [
    "# We are having the data from 1st August 2013 to 29th December 2017\n",
    "# lets take only the Open column for analysis\n",
    "X = df.iloc[:,1:2].values\n",
    "X.shape"
   ]
  },
  {
   "cell_type": "code",
   "execution_count": 6,
   "metadata": {},
   "outputs": [
    {
     "data": {
      "text/plain": [
       "[<matplotlib.lines.Line2D at 0x1f7f56ba7c8>]"
      ]
     },
     "execution_count": 6,
     "metadata": {},
     "output_type": "execute_result"
    },
    {
     "data": {
      "image/png": "[encoded data removed]",
      "text/plain": [
       "<Figure size 1440x432 with 1 Axes>"
      ]
     },
     "metadata": {
      "needs_background": "light"
     },
     "output_type": "display_data"
    }
   ],
   "source": [
    "plt.figure(figsize=(20,6))\n",
    "plt.plot(X)"
   ]
  },
  {
   "cell_type": "markdown",
   "metadata": {},
   "source": [
    "# Feature Scaling "
   ]
  },
  {
   "cell_type": "code",
   "execution_count": 7,
   "metadata": {},
   "outputs": [
    {
     "data": {
      "text/plain": [
       "(array([1.]), array([0.]))"
      ]
     },
     "execution_count": 7,
     "metadata": {},
     "output_type": "execute_result"
    }
   ],
   "source": [
    "from sklearn.preprocessing import MinMaxScaler\n",
    "sc = MinMaxScaler(feature_range=(0,1)) # converting into values from 0-1\n",
    "train_scaled = sc.fit_transform(X)\n",
    "max(train_scaled),min(train_scaled) # Sanity check ....MinMax Scaler transforms the values between 0-1"
   ]
  },
  {
   "cell_type": "code",
   "execution_count": 8,
   "metadata": {},
   "outputs": [],
   "source": [
    "# Now we need to create data structure with some t time stamps\n",
    "X_train = []\n",
    "y_train = []\n",
    "\n",
    "for i in range(60,len(train_scaled)):\n",
    "    \n",
    "    X_train.append(train_scaled[i-60:i,0])\n",
    "    y_train.append(train_scaled[i,0])\n",
    "    \n",
    "X_train , y_train = np.array(X_train) , np.array(y_train)"
   ]
  },
  {
   "cell_type": "code",
   "execution_count": 9,
   "metadata": {},
   "outputs": [
    {
     "data": {
      "text/plain": [
       "(1199, 60)"
      ]
     },
     "execution_count": 9,
     "metadata": {},
     "output_type": "execute_result"
    }
   ],
   "source": [
    "X_train.shape"
   ]
  },
  {
   "cell_type": "code",
   "execution_count": 10,
   "metadata": {},
   "outputs": [],
   "source": [
    "X_train = np.reshape(X_train,(X_train.shape[0],X_train.shape[1],1)) # converting into 3D tensors"
   ]
  },
  {
   "cell_type": "code",
   "execution_count": 11,
   "metadata": {},
   "outputs": [
    {
     "data": {
      "text/plain": [
       "(1199, 60, 1)"
      ]
     },
     "execution_count": 11,
     "metadata": {},
     "output_type": "execute_result"
    }
   ],
   "source": [
    "X_train.shape"
   ]
  },
  {
   "cell_type": "markdown",
   "metadata": {},
   "source": [
    "## Creating the Model"
   ]
  },
  {
   "cell_type": "code",
   "execution_count": 12,
   "metadata": {},
   "outputs": [],
   "source": [
    "import tensorflow as tf\n",
    "from tensorflow.keras.models import Model\n",
    "from tensorflow.keras.models import Sequential\n",
    "from tensorflow.keras import layers\n",
    "from tensorflow.keras.layers import LSTM , Dropout , Dense"
   ]
  },
  {
   "cell_type": "code",
   "execution_count": 1,
   "metadata": {},
   "outputs": [],
   "source": [
    "import tensorflow as tf\n",
    "physical_devices = tf.config.list_physical_devices('GPU')\n",
    "tf.config.experimental.set_memory_growth(physical_devices[0], enable=True)"
   ]
  },
  {
   "cell_type": "code",
   "execution_count": 14,
   "metadata": {},
   "outputs": [
    {
     "name": "stdout",
     "output_type": "stream",
     "text": [
      "Train on 1199 samples\n",
      "Epoch 1/100\n",
      "1199/1199 [==============================] - 5s 4ms/sample - loss: 0.0192 - mean_squared_error: 0.0192\n",
      "Epoch 2/100\n",
      "1199/1199 [==============================] - 1s 569us/sample - loss: 0.0042 - mean_squared_error: 0.0042\n",
      "Epoch 3/100\n",
      "1199/1199 [==============================] - 1s 563us/sample - loss: 0.0036 - mean_squared_error: 0.0036\n",
      "Epoch 4/100\n",
      "1199/1199 [==============================] - 1s 588us/sample - loss: 0.0036 - mean_squared_error: 0.0036\n",
      "Epoch 5/100\n",
      "1199/1199 [==============================] - 1s 578us/sample - loss: 0.0030 - mean_squared_error: 0.0030\n",
      "Epoch 6/100\n",
      "1199/1199 [==============================] - 1s 563us/sample - loss: 0.0035 - mean_squared_error: 0.0035\n",
      "Epoch 7/100\n",
      "1199/1199 [==============================] - 1s 560us/sample - loss: 0.0035 - mean_squared_error: 0.0035\n",
      "Epoch 8/100\n",
      "1199/1199 [==============================] - 1s 566us/sample - loss: 0.0031 - mean_squared_error: 0.0031\n",
      "Epoch 9/100\n",
      "1199/1199 [==============================] - 1s 563us/sample - loss: 0.0041 - mean_squared_error: 0.0041\n",
      "Epoch 10/100\n",
      "1199/1199 [==============================] - 1s 570us/sample - loss: 0.0029 - mean_squared_error: 0.0029\n",
      "Epoch 11/100\n",
      "1199/1199 [==============================] - 1s 578us/sample - loss: 0.0027 - mean_squared_error: 0.0027\n",
      "Epoch 12/100\n",
      "1199/1199 [==============================] - 1s 581us/sample - loss: 0.0025 - mean_squared_error: 0.0025\n",
      "Epoch 13/100\n",
      "1199/1199 [==============================] - 1s 575us/sample - loss: 0.0027 - mean_squared_error: 0.0027\n",
      "Epoch 14/100\n",
      "1199/1199 [==============================] - 1s 585us/sample - loss: 0.0026 - mean_squared_error: 0.0026\n",
      "Epoch 15/100\n",
      "1199/1199 [==============================] - 1s 582us/sample - loss: 0.0024 - mean_squared_error: 0.0024\n",
      "Epoch 16/100\n",
      "1199/1199 [==============================] - 1s 564us/sample - loss: 0.0025 - mean_squared_error: 0.0025\n",
      "Epoch 17/100\n",
      "1199/1199 [==============================] - 1s 567us/sample - loss: 0.0023 - mean_squared_error: 0.0023\n",
      "Epoch 18/100\n",
      "1199/1199 [==============================] - 1s 595us/sample - loss: 0.0021 - mean_squared_error: 0.0021\n",
      "Epoch 19/100\n",
      "1199/1199 [==============================] - 1s 620us/sample - loss: 0.0022 - mean_squared_error: 0.0022\n",
      "Epoch 20/100\n",
      "1199/1199 [==============================] - 1s 573us/sample - loss: 0.0023 - mean_squared_error: 0.0023\n",
      "Epoch 21/100\n",
      "1199/1199 [==============================] - 1s 554us/sample - loss: 0.0023 - mean_squared_error: 0.0023\n",
      "Epoch 22/100\n",
      "1199/1199 [==============================] - 1s 556us/sample - loss: 0.0027 - mean_squared_error: 0.0027\n",
      "Epoch 23/100\n",
      "1199/1199 [==============================] - 1s 555us/sample - loss: 0.0022 - mean_squared_error: 0.0022\n",
      "Epoch 24/100\n",
      "1199/1199 [==============================] - 1s 568us/sample - loss: 0.0023 - mean_squared_error: 0.0023\n",
      "Epoch 25/100\n",
      "1199/1199 [==============================] - 1s 573us/sample - loss: 0.0023 - mean_squared_error: 0.0023\n",
      "Epoch 26/100\n",
      "1199/1199 [==============================] - 1s 603us/sample - loss: 0.0018 - mean_squared_error: 0.0018\n",
      "Epoch 27/100\n",
      "1199/1199 [==============================] - 1s 588us/sample - loss: 0.0020 - mean_squared_error: 0.0020\n",
      "Epoch 28/100\n",
      "1199/1199 [==============================] - 1s 607us/sample - loss: 0.0019 - mean_squared_error: 0.0019\n",
      "Epoch 29/100\n",
      "1199/1199 [==============================] - 1s 593us/sample - loss: 0.0018 - mean_squared_error: 0.0018\n",
      "Epoch 30/100\n",
      "1199/1199 [==============================] - 1s 594us/sample - loss: 0.0019 - mean_squared_error: 0.0019\n",
      "Epoch 31/100\n",
      "1199/1199 [==============================] - 1s 579us/sample - loss: 0.0018 - mean_squared_error: 0.0018\n",
      "Epoch 32/100\n",
      "1199/1199 [==============================] - 1s 622us/sample - loss: 0.0017 - mean_squared_error: 0.0017\n",
      "Epoch 33/100\n",
      "1199/1199 [==============================] - 1s 612us/sample - loss: 0.0019 - mean_squared_error: 0.0019\n",
      "Epoch 34/100\n",
      "1199/1199 [==============================] - 1s 571us/sample - loss: 0.0018 - mean_squared_error: 0.0018\n",
      "Epoch 35/100\n",
      "1199/1199 [==============================] - 1s 587us/sample - loss: 0.0019 - mean_squared_error: 0.0019\n",
      "Epoch 36/100\n",
      "1199/1199 [==============================] - 1s 567us/sample - loss: 0.0018 - mean_squared_error: 0.0018\n",
      "Epoch 37/100\n",
      "1199/1199 [==============================] - 1s 573us/sample - loss: 0.0017 - mean_squared_error: 0.0017\n",
      "Epoch 38/100\n",
      "1199/1199 [==============================] - 1s 662us/sample - loss: 0.0018 - mean_squared_error: 0.0018\n",
      "Epoch 39/100\n",
      "1199/1199 [==============================] - 1s 580us/sample - loss: 0.0015 - mean_squared_error: 0.0015\n",
      "Epoch 40/100\n",
      "1199/1199 [==============================] - 1s 563us/sample - loss: 0.0017 - mean_squared_error: 0.0017\n",
      "Epoch 41/100\n",
      "1199/1199 [==============================] - 1s 563us/sample - loss: 0.0015 - mean_squared_error: 0.0015\n",
      "Epoch 42/100\n",
      "1199/1199 [==============================] - 1s 573us/sample - loss: 0.0014 - mean_squared_error: 0.0014\n",
      "Epoch 43/100\n",
      "1199/1199 [==============================] - 1s 561us/sample - loss: 0.0016 - mean_squared_error: 0.0016\n",
      "Epoch 44/100\n",
      "1199/1199 [==============================] - 1s 587us/sample - loss: 0.0016 - mean_squared_error: 0.0016\n",
      "Epoch 45/100\n",
      "1199/1199 [==============================] - 1s 581us/sample - loss: 0.0016 - mean_squared_error: 0.0016 ETA: 0s - loss: 0.0015 - mean_squared\n",
      "Epoch 46/100\n",
      "1199/1199 [==============================] - 1s 561us/sample - loss: 0.0015 - mean_squared_error: 0.0015\n",
      "Epoch 47/100\n",
      "1199/1199 [==============================] - 1s 559us/sample - loss: 0.0016 - mean_squared_error: 0.0016\n",
      "Epoch 48/100\n",
      "1199/1199 [==============================] - 1s 565us/sample - loss: 0.0015 - mean_squared_error: 0.0015\n",
      "Epoch 49/100\n",
      "1199/1199 [==============================] - 1s 562us/sample - loss: 0.0014 - mean_squared_error: 0.0014\n",
      "Epoch 50/100\n",
      "1199/1199 [==============================] - 1s 554us/sample - loss: 0.0014 - mean_squared_error: 0.0014\n",
      "Epoch 51/100\n",
      "1199/1199 [==============================] - 1s 556us/sample - loss: 0.0014 - mean_squared_error: 0.0014\n",
      "Epoch 52/100\n",
      "1199/1199 [==============================] - 1s 557us/sample - loss: 0.0013 - mean_squared_error: 0.0013\n",
      "Epoch 53/100\n",
      "1199/1199 [==============================] - 1s 570us/sample - loss: 0.0014 - mean_squared_error: 0.0014\n",
      "Epoch 54/100\n",
      "1199/1199 [==============================] - 1s 570us/sample - loss: 0.0012 - mean_squared_error: 0.0012\n",
      "Epoch 55/100\n",
      "1199/1199 [==============================] - 1s 580us/sample - loss: 0.0014 - mean_squared_error: 0.0014\n",
      "Epoch 56/100\n",
      "1199/1199 [==============================] - 1s 577us/sample - loss: 0.0012 - mean_squared_error: 0.0012\n",
      "Epoch 57/100\n",
      "1199/1199 [==============================] - 1s 586us/sample - loss: 0.0013 - mean_squared_error: 0.0013\n",
      "Epoch 58/100\n",
      "1199/1199 [==============================] - 1s 587us/sample - loss: 0.0011 - mean_squared_error: 0.0011\n",
      "Epoch 59/100\n",
      "1199/1199 [==============================] - 1s 580us/sample - loss: 0.0012 - mean_squared_error: 0.0012\n",
      "Epoch 60/100\n",
      "1199/1199 [==============================] - 1s 581us/sample - loss: 0.0013 - mean_squared_error: 0.0013\n",
      "Epoch 61/100\n",
      "1199/1199 [==============================] - 1s 578us/sample - loss: 0.0013 - mean_squared_error: 0.0013\n",
      "Epoch 62/100\n",
      "1199/1199 [==============================] - 1s 573us/sample - loss: 0.0012 - mean_squared_error: 0.0012\n",
      "Epoch 63/100\n",
      "1199/1199 [==============================] - 1s 596us/sample - loss: 0.0012 - mean_squared_error: 0.0012\n",
      "Epoch 64/100\n",
      "1199/1199 [==============================] - 1s 562us/sample - loss: 0.0011 - mean_squared_error: 0.0011\n",
      "Epoch 65/100\n",
      "1199/1199 [==============================] - 1s 596us/sample - loss: 0.0013 - mean_squared_error: 0.0013\n",
      "Epoch 66/100\n",
      "1199/1199 [==============================] - 1s 564us/sample - loss: 0.0012 - mean_squared_error: 0.0012\n",
      "Epoch 67/100\n",
      "1199/1199 [==============================] - 1s 563us/sample - loss: 0.0011 - mean_squared_error: 0.0011\n",
      "Epoch 68/100\n",
      "1199/1199 [==============================] - 1s 568us/sample - loss: 0.0010 - mean_squared_error: 0.0010\n",
      "Epoch 69/100\n",
      "1199/1199 [==============================] - 1s 569us/sample - loss: 0.0010 - mean_squared_error: 0.0010\n",
      "Epoch 70/100\n"
     ]
    },
    {
     "name": "stdout",
     "output_type": "stream",
     "text": [
      "1199/1199 [==============================] - 1s 566us/sample - loss: 0.0011 - mean_squared_error: 0.0011\n",
      "Epoch 71/100\n",
      "1199/1199 [==============================] - 1s 566us/sample - loss: 0.0011 - mean_squared_error: 0.0011\n",
      "Epoch 72/100\n",
      "1199/1199 [==============================] - 1s 596us/sample - loss: 9.8401e-04 - mean_squared_error: 9.8401e-04\n",
      "Epoch 73/100\n",
      "1199/1199 [==============================] - 1s 575us/sample - loss: 0.0011 - mean_squared_error: 0.0011\n",
      "Epoch 74/100\n",
      "1199/1199 [==============================] - 1s 560us/sample - loss: 0.0012 - mean_squared_error: 0.0012\n",
      "Epoch 75/100\n",
      "1199/1199 [==============================] - 1s 562us/sample - loss: 0.0010 - mean_squared_error: 0.0010\n",
      "Epoch 76/100\n",
      "1199/1199 [==============================] - 1s 551us/sample - loss: 9.6024e-04 - mean_squared_error: 9.6024e-04\n",
      "Epoch 77/100\n",
      "1199/1199 [==============================] - 1s 556us/sample - loss: 0.0011 - mean_squared_error: 0.0011\n",
      "Epoch 78/100\n",
      "1199/1199 [==============================] - 1s 568us/sample - loss: 0.0010 - mean_squared_error: 0.0010\n",
      "Epoch 79/100\n",
      "1199/1199 [==============================] - 1s 569us/sample - loss: 9.4073e-04 - mean_squared_error: 9.4073e-04\n",
      "Epoch 80/100\n",
      "1199/1199 [==============================] - 1s 609us/sample - loss: 0.0011 - mean_squared_error: 0.0011\n",
      "Epoch 81/100\n",
      "1199/1199 [==============================] - 1s 585us/sample - loss: 0.0011 - mean_squared_error: 0.0011\n",
      "Epoch 82/100\n",
      "1199/1199 [==============================] - 1s 568us/sample - loss: 9.5596e-04 - mean_squared_error: 9.5597e-04\n",
      "Epoch 83/100\n",
      "1199/1199 [==============================] - 1s 614us/sample - loss: 0.0010 - mean_squared_error: 0.0010\n",
      "Epoch 84/100\n",
      "1199/1199 [==============================] - 1s 582us/sample - loss: 9.4867e-04 - mean_squared_error: 9.4867e-04\n",
      "Epoch 85/100\n",
      "1199/1199 [==============================] - 1s 577us/sample - loss: 9.7018e-04 - mean_squared_error: 9.7018e-04\n",
      "Epoch 86/100\n",
      "1199/1199 [==============================] - 1s 598us/sample - loss: 9.3473e-04 - mean_squared_error: 9.3473e-04\n",
      "Epoch 87/100\n",
      "1199/1199 [==============================] - 1s 598us/sample - loss: 0.0011 - mean_squared_error: 0.0011\n",
      "Epoch 88/100\n",
      "1199/1199 [==============================] - 1s 554us/sample - loss: 0.0011 - mean_squared_error: 0.0011\n",
      "Epoch 89/100\n",
      "1199/1199 [==============================] - 1s 574us/sample - loss: 9.6186e-04 - mean_squared_error: 9.6186e-04\n",
      "Epoch 90/100\n",
      "1199/1199 [==============================] - 1s 614us/sample - loss: 9.0647e-04 - mean_squared_error: 9.0647e-04\n",
      "Epoch 91/100\n",
      "1199/1199 [==============================] - 1s 615us/sample - loss: 9.0064e-04 - mean_squared_error: 9.0064e-04\n",
      "Epoch 92/100\n",
      "1199/1199 [==============================] - 1s 606us/sample - loss: 0.0011 - mean_squared_error: 0.0011\n",
      "Epoch 93/100\n",
      "1199/1199 [==============================] - 1s 567us/sample - loss: 9.0283e-04 - mean_squared_error: 9.0283e-04\n",
      "Epoch 94/100\n",
      "1199/1199 [==============================] - 1s 557us/sample - loss: 8.9041e-04 - mean_squared_error: 8.9041e-04\n",
      "Epoch 95/100\n",
      "1199/1199 [==============================] - 1s 556us/sample - loss: 8.6602e-04 - mean_squared_error: 8.6602e-04\n",
      "Epoch 96/100\n",
      "1199/1199 [==============================] - 1s 556us/sample - loss: 9.4628e-04 - mean_squared_error: 9.4629e-04\n",
      "Epoch 97/100\n",
      "1199/1199 [==============================] - 1s 559us/sample - loss: 8.3096e-04 - mean_squared_error: 8.3096e-04\n",
      "Epoch 98/100\n",
      "1199/1199 [==============================] - 1s 556us/sample - loss: 8.7652e-04 - mean_squared_error: 8.7652e-04\n",
      "Epoch 99/100\n",
      "1199/1199 [==============================] - 1s 554us/sample - loss: 0.0011 - mean_squared_error: 0.0011\n",
      "Epoch 100/100\n",
      "1199/1199 [==============================] - 1s 552us/sample - loss: 8.7850e-04 - mean_squared_error: 8.7850e-04\n"
     ]
    },
    {
     "data": {
      "text/plain": [
       "<tensorflow.python.keras.callbacks.History at 0x1f800280988>"
      ]
     },
     "execution_count": 14,
     "metadata": {},
     "output_type": "execute_result"
    }
   ],
   "source": [
    "model = Sequential()\n",
    "model.add(LSTM(units=50,return_sequences=True,input_shape=(60,1)))\n",
    "model.add(Dropout(0.2))\n",
    "model.add(LSTM(units=50,return_sequences=True))\n",
    "model.add(Dropout(0.2))\n",
    "model.add(LSTM(units=50,return_sequences=True))\n",
    "model.add(Dropout(0.2))\n",
    "model.add(LSTM(units=50))\n",
    "model.add(Dropout(0.2))\n",
    "model.add(Dense(units=1))\n",
    "\n",
    "model.compile(optimizer='Adam',\n",
    "              loss='mean_squared_error',\n",
    "              metrics=['mean_squared_error']\n",
    "              )\n",
    "\n",
    "model.fit(X_train,y_train,epochs=100,batch_size=20)\n",
    "\n"
   ]
  },
  {
   "cell_type": "markdown",
   "metadata": {},
   "source": [
    "# Predictions on the test dataset"
   ]
  },
  {
   "cell_type": "code",
   "execution_count": 38,
   "metadata": {},
   "outputs": [
    {
     "data": {
      "text/html": [
       "<div>\n",
       "<style scoped>\n",
       "    .dataframe tbody tr th:only-of-type {\n",
       "        vertical-align: middle;\n",
       "    }\n",
       "\n",
       "    .dataframe tbody tr th {\n",
       "        vertical-align: top;\n",
       "    }\n",
       "\n",
       "    .dataframe thead th {\n",
       "        text-align: right;\n",
       "    }\n",
       "</style>\n",
       "<table border=\"1\" class=\"dataframe\">\n",
       "  <thead>\n",
       "    <tr style=\"text-align: right;\">\n",
       "      <th></th>\n",
       "      <th>Date</th>\n",
       "      <th>Open</th>\n",
       "      <th>High</th>\n",
       "      <th>Low</th>\n",
       "      <th>Close</th>\n",
       "      <th>Adj Close</th>\n",
       "      <th>Volume</th>\n",
       "    </tr>\n",
       "  </thead>\n",
       "  <tbody>\n",
       "    <tr>\n",
       "      <th>0</th>\n",
       "      <td>2013-01-02</td>\n",
       "      <td>357.385559</td>\n",
       "      <td>361.151062</td>\n",
       "      <td>355.959839</td>\n",
       "      <td>359.288177</td>\n",
       "      <td>359.288177</td>\n",
       "      <td>5115500</td>\n",
       "    </tr>\n",
       "    <tr>\n",
       "      <th>1</th>\n",
       "      <td>2013-01-03</td>\n",
       "      <td>360.122742</td>\n",
       "      <td>363.600128</td>\n",
       "      <td>358.031342</td>\n",
       "      <td>359.496826</td>\n",
       "      <td>359.496826</td>\n",
       "      <td>4666500</td>\n",
       "    </tr>\n",
       "    <tr>\n",
       "      <th>2</th>\n",
       "      <td>2013-01-04</td>\n",
       "      <td>362.313507</td>\n",
       "      <td>368.339294</td>\n",
       "      <td>361.488861</td>\n",
       "      <td>366.600616</td>\n",
       "      <td>366.600616</td>\n",
       "      <td>5562800</td>\n",
       "    </tr>\n",
       "    <tr>\n",
       "      <th>3</th>\n",
       "      <td>2013-01-07</td>\n",
       "      <td>365.348755</td>\n",
       "      <td>367.301056</td>\n",
       "      <td>362.929504</td>\n",
       "      <td>365.001007</td>\n",
       "      <td>365.001007</td>\n",
       "      <td>3332900</td>\n",
       "    </tr>\n",
       "    <tr>\n",
       "      <th>4</th>\n",
       "      <td>2013-01-08</td>\n",
       "      <td>365.393463</td>\n",
       "      <td>365.771027</td>\n",
       "      <td>359.874359</td>\n",
       "      <td>364.280701</td>\n",
       "      <td>364.280701</td>\n",
       "      <td>3373900</td>\n",
       "    </tr>\n",
       "  </tbody>\n",
       "</table>\n",
       "</div>"
      ],
      "text/plain": [
       "         Date        Open        High         Low       Close   Adj Close  \\\n",
       "0  2013-01-02  357.385559  361.151062  355.959839  359.288177  359.288177   \n",
       "1  2013-01-03  360.122742  363.600128  358.031342  359.496826  359.496826   \n",
       "2  2013-01-04  362.313507  368.339294  361.488861  366.600616  366.600616   \n",
       "3  2013-01-07  365.348755  367.301056  362.929504  365.001007  365.001007   \n",
       "4  2013-01-08  365.393463  365.771027  359.874359  364.280701  364.280701   \n",
       "\n",
       "    Volume  \n",
       "0  5115500  \n",
       "1  4666500  \n",
       "2  5562800  \n",
       "3  3332900  \n",
       "4  3373900  "
      ]
     },
     "execution_count": 38,
     "metadata": {},
     "output_type": "execute_result"
    }
   ],
   "source": [
    "test_data = pd.read_csv('google_data_trainset.csv')\n",
    "test_data.head()"
   ]
  },
  {
   "cell_type": "code",
   "execution_count": 39,
   "metadata": {},
   "outputs": [],
   "source": [
    "real_stock_price = test_data.iloc[:,1:2].values"
   ]
  },
  {
   "cell_type": "code",
   "execution_count": 40,
   "metadata": {},
   "outputs": [
    {
     "data": {
      "text/plain": [
       "array([[ 357.385559],\n",
       "       [ 360.122742],\n",
       "       [ 362.313507],\n",
       "       ...,\n",
       "       [1057.390015],\n",
       "       [1051.599976],\n",
       "       [1046.719971]])"
      ]
     },
     "execution_count": 40,
     "metadata": {},
     "output_type": "execute_result"
    }
   ],
   "source": [
    "real_stock_price"
   ]
  },
  {
   "cell_type": "code",
   "execution_count": 41,
   "metadata": {},
   "outputs": [],
   "source": [
    "dataset_total = pd.concat((df['Open'],test_data['Open']),axis=0)"
   ]
  },
  {
   "cell_type": "code",
   "execution_count": 42,
   "metadata": {},
   "outputs": [
    {
     "data": {
      "text/plain": [
       "(2518,)"
      ]
     },
     "execution_count": 42,
     "metadata": {},
     "output_type": "execute_result"
    }
   ],
   "source": [
    "dataset_total.shape"
   ]
  },
  {
   "cell_type": "code",
   "execution_count": 43,
   "metadata": {},
   "outputs": [
    {
     "data": {
      "text/plain": [
       "array([ 955.48999 ,  966.700012,  980.      , ..., 1057.390015,\n",
       "       1051.599976, 1046.719971])"
      ]
     },
     "execution_count": 43,
     "metadata": {},
     "output_type": "execute_result"
    }
   ],
   "source": [
    "inputs = dataset_total[len(dataset_total) - len(test_data)-60:].values\n",
    "inputs"
   ]
  },
  {
   "cell_type": "code",
   "execution_count": 44,
   "metadata": {},
   "outputs": [],
   "source": [
    "inputs = inputs.reshape(-1,1)"
   ]
  },
  {
   "cell_type": "code",
   "execution_count": 45,
   "metadata": {},
   "outputs": [
    {
     "data": {
      "text/plain": [
       "(1319, 1)"
      ]
     },
     "execution_count": 45,
     "metadata": {},
     "output_type": "execute_result"
    }
   ],
   "source": [
    "inputs.shape"
   ]
  },
  {
   "cell_type": "code",
   "execution_count": 46,
   "metadata": {},
   "outputs": [
    {
     "data": {
      "text/plain": [
       "(1319, 1)"
      ]
     },
     "execution_count": 46,
     "metadata": {},
     "output_type": "execute_result"
    }
   ],
   "source": [
    "inputs = sc.transform(inputs)\n",
    "inputs.shape"
   ]
  },
  {
   "cell_type": "code",
   "execution_count": 47,
   "metadata": {},
   "outputs": [],
   "source": [
    "x_test = []\n",
    "for i in range(60,185):\n",
    "    x_test.append(inputs[i-60:i,0])"
   ]
  },
  {
   "cell_type": "code",
   "execution_count": 48,
   "metadata": {},
   "outputs": [
    {
     "data": {
      "text/plain": [
       "(125, 60)"
      ]
     },
     "execution_count": 48,
     "metadata": {},
     "output_type": "execute_result"
    }
   ],
   "source": [
    "x_test = np.array(x_test)\n",
    "x_test.shape"
   ]
  },
  {
   "cell_type": "code",
   "execution_count": 49,
   "metadata": {},
   "outputs": [
    {
     "data": {
      "text/plain": [
       "(125, 60, 1)"
      ]
     },
     "execution_count": 49,
     "metadata": {},
     "output_type": "execute_result"
    }
   ],
   "source": [
    "x_test = np.reshape(x_test, (x_test.shape[0],x_test.shape[1],1))\n",
    "x_test.shape"
   ]
  },
  {
   "cell_type": "code",
   "execution_count": 50,
   "metadata": {},
   "outputs": [],
   "source": [
    "predicted_price = model.predict(x_test)"
   ]
  },
  {
   "cell_type": "code",
   "execution_count": 51,
   "metadata": {},
   "outputs": [
    {
     "data": {
      "text/plain": [
       "array([[1038.2777 ],\n",
       "       [ 897.21686],\n",
       "       [ 695.64343],\n",
       "       [ 516.12585],\n",
       "       [ 421.83618],\n",
       "       [ 410.93143],\n",
       "       [ 438.03885],\n",
       "       [ 466.20834],\n",
       "       [ 479.02438],\n",
       "       [ 474.54428],\n",
       "       [ 456.2233 ],\n",
       "       [ 432.93124],\n",
       "       [ 410.91025],\n",
       "       [ 392.84973],\n",
       "       [ 379.51355],\n",
       "       [ 375.37903],\n",
       "       [ 377.703  ],\n",
       "       [ 382.62286],\n",
       "       [ 386.52493],\n",
       "       [ 387.25858],\n",
       "       [ 386.6126 ],\n",
       "       [ 385.16058],\n",
       "       [ 384.63806],\n",
       "       [ 386.1983 ],\n",
       "       [ 387.51138],\n",
       "       [ 387.58954],\n",
       "       [ 388.4149 ],\n",
       "       [ 391.17468],\n",
       "       [ 393.95767],\n",
       "       [ 396.0103 ],\n",
       "       [ 396.79678],\n",
       "       [ 396.58942],\n",
       "       [ 397.05795],\n",
       "       [ 399.1676 ],\n",
       "       [ 402.8333 ],\n",
       "       [ 405.10556],\n",
       "       [ 405.69086],\n",
       "       [ 405.7306 ],\n",
       "       [ 404.6874 ],\n",
       "       [ 403.28766],\n",
       "       [ 403.17957],\n",
       "       [ 403.5984 ],\n",
       "       [ 405.05325],\n",
       "       [ 409.98538],\n",
       "       [ 417.1764 ],\n",
       "       [ 421.97232],\n",
       "       [ 423.40726],\n",
       "       [ 422.27502],\n",
       "       [ 420.17294],\n",
       "       [ 418.05646],\n",
       "       [ 416.591  ],\n",
       "       [ 414.8959 ],\n",
       "       [ 411.71585],\n",
       "       [ 409.57584],\n",
       "       [ 409.95908],\n",
       "       [ 410.97342],\n",
       "       [ 412.17004],\n",
       "       [ 412.79657],\n",
       "       [ 412.98022],\n",
       "       [ 411.9693 ],\n",
       "       [ 410.138  ],\n",
       "       [ 407.2917 ],\n",
       "       [ 406.04758],\n",
       "       [ 407.64575],\n",
       "       [ 409.01715],\n",
       "       [ 406.8407 ],\n",
       "       [ 402.141  ],\n",
       "       [ 397.4604 ],\n",
       "       [ 395.62915],\n",
       "       [ 397.56146],\n",
       "       [ 400.73697],\n",
       "       [ 402.29498],\n",
       "       [ 402.25586],\n",
       "       [ 401.4985 ],\n",
       "       [ 400.49185],\n",
       "       [ 397.45447],\n",
       "       [ 398.2609 ],\n",
       "       [ 401.8187 ],\n",
       "       [ 406.20404],\n",
       "       [ 410.46332],\n",
       "       [ 412.0138 ],\n",
       "       [ 410.69315],\n",
       "       [ 410.4977 ],\n",
       "       [ 412.11575],\n",
       "       [ 413.65207],\n",
       "       [ 416.67227],\n",
       "       [ 421.3833 ],\n",
       "       [ 427.48016],\n",
       "       [ 431.4483 ],\n",
       "       [ 434.46793],\n",
       "       [ 436.95377],\n",
       "       [ 438.88217],\n",
       "       [ 439.7133 ],\n",
       "       [ 442.1734 ],\n",
       "       [ 448.42474],\n",
       "       [ 453.5963 ],\n",
       "       [ 455.1561 ],\n",
       "       [ 454.69446],\n",
       "       [ 453.00244],\n",
       "       [ 447.86047],\n",
       "       [ 442.11218],\n",
       "       [ 439.65695],\n",
       "       [ 439.2208 ],\n",
       "       [ 438.95398],\n",
       "       [ 438.49887],\n",
       "       [ 438.8581 ],\n",
       "       [ 439.00397],\n",
       "       [ 438.06082],\n",
       "       [ 436.97992],\n",
       "       [ 437.13934],\n",
       "       [ 439.60422],\n",
       "       [ 442.75284],\n",
       "       [ 445.10147],\n",
       "       [ 443.80533],\n",
       "       [ 442.18082],\n",
       "       [ 441.34445],\n",
       "       [ 442.49655],\n",
       "       [ 446.18323],\n",
       "       [ 448.9851 ],\n",
       "       [ 449.1536 ],\n",
       "       [ 445.55307],\n",
       "       [ 441.8284 ],\n",
       "       [ 439.35608],\n",
       "       [ 439.11465],\n",
       "       [ 439.69357]], dtype=float32)"
      ]
     },
     "execution_count": 51,
     "metadata": {},
     "output_type": "execute_result"
    }
   ],
   "source": [
    "predicted_price = sc.inverse_transform(predicted_price) # Undo the scaling of X according to feature_range\n",
    "predicted_price"
   ]
  },
  {
   "cell_type": "code",
   "execution_count": 52,
   "metadata": {},
   "outputs": [
    {
     "data": {
      "image/png": "[encoded data removed]",
      "text/plain": [
       "<Figure size 720x432 with 1 Axes>"
      ]
     },
     "metadata": {
      "needs_background": "light"
     },
     "output_type": "display_data"
    }
   ],
   "source": [
    "plt.figure(figsize=(10,6))\n",
    "plt.plot(real_stock_price, color = 'red', label = 'Real Price')\n",
    "plt.plot(predicted_price, color = 'blue', label = 'Predicted Price')\n",
    "plt.title('Google Stock Price Prediction')\n",
    "plt.xlabel('Time')\n",
    "plt.ylabel('Google Stock Price')\n",
    "plt.legend()\n",
    "plt.show()"
   ]
  },
  {
   "cell_type": "code",
   "execution_count": null,
   "metadata": {},
   "outputs": [],
   "source": []
  },
  {
   "cell_type": "code",
   "execution_count": null,
   "metadata": {},
   "outputs": [],
   "source": []
  },
  {
   "cell_type": "code",
   "execution_count": null,
   "metadata": {},
   "outputs": [],
   "source": []
  }
 ],
 "metadata": {
  "kernelspec": {
   "display_name": "Python 3",
   "language": "python",
   "name": "python3"
  },
  "language_info": {
   "codemirror_mode": {
    "name": "ipython",
    "version": 3
   },
   "file_extension": ".py",
   "mimetype": "text/x-python",
   "name": "python",
   "nbconvert_exporter": "python",
   "pygments_lexer": "ipython3",
   "version": "3.7.9"
  }
 },
 "nbformat": 4,
 "nbformat_minor": 4
}
