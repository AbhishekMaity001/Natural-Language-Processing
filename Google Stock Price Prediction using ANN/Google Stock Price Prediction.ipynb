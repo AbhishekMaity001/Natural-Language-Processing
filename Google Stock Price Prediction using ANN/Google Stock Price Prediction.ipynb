{
 "cells": [
  {
   "cell_type": "markdown",
   "metadata": {},
   "source": [
    "# Google Stock Price Prediction\n",
    "\n",
    "You can download the dataset from kaggle : https://www.kaggle.com/ptheru/googledta"
   ]
  },
  {
   "cell_type": "code",
   "execution_count": 140,
   "metadata": {},
   "outputs": [
    {
     "name": "stdout",
     "output_type": "stream",
     "text": [
      "1 Physical GPUs, 1 Logical GPUs\n"
     ]
    }
   ],
   "source": [
    "# This code is related to limiting the tensorflow GPU ---------------------------\n",
    "import tensorflow as tf\n",
    "gpus = tf.config.experimental.list_physical_devices('GPU')\n",
    "if gpus:\n",
    "    try:\n",
    "        # Currently, memory growth needs to be the same across GPUs\n",
    "        for gpu in gpus:\n",
    "            tf.config.experimental.set_memory_growth(gpu, True)\n",
    "            logical_gpus = tf.config.experimental.list_logical_devices('GPU')\n",
    "            print(len(gpus), \"Physical GPUs,\", len(logical_gpus), \"Logical GPUs\")\n",
    "    except RuntimeError as e:\n",
    "        # Memory growth must be set before GPUs have been initialized\n",
    "        print(e)"
   ]
  },
  {
   "cell_type": "markdown",
   "metadata": {},
   "source": [
    "import tensorflow as tf\n",
    "physical_devices = tf.config.list_physical_devices('GPU')\n",
    "tf.config.experimental.set_memory_growth(physical_devices[0], enable=True)"
   ]
  },
  {
   "cell_type": "code",
   "execution_count": 141,
   "metadata": {},
   "outputs": [],
   "source": [
    "# importing all the necessary libraries\n",
    "import numpy as np\n",
    "import pandas as pd\n",
    "import matplotlib.pyplot as plt\n",
    "import seaborn as sns\n",
    "%matplotlib inline\n"
   ]
  },
  {
   "cell_type": "code",
   "execution_count": 142,
   "metadata": {},
   "outputs": [
    {
     "data": {
      "text/html": [
       "<div>\n",
       "<style scoped>\n",
       "    .dataframe tbody tr th:only-of-type {\n",
       "        vertical-align: middle;\n",
       "    }\n",
       "\n",
       "    .dataframe tbody tr th {\n",
       "        vertical-align: top;\n",
       "    }\n",
       "\n",
       "    .dataframe thead th {\n",
       "        text-align: right;\n",
       "    }\n",
       "</style>\n",
       "<table border=\"1\" class=\"dataframe\">\n",
       "  <thead>\n",
       "    <tr style=\"text-align: right;\">\n",
       "      <th></th>\n",
       "      <th>Date</th>\n",
       "      <th>Open</th>\n",
       "      <th>High</th>\n",
       "      <th>Low</th>\n",
       "      <th>Close</th>\n",
       "      <th>Adj Close</th>\n",
       "      <th>Volume</th>\n",
       "    </tr>\n",
       "  </thead>\n",
       "  <tbody>\n",
       "    <tr>\n",
       "      <th>0</th>\n",
       "      <td>2013-01-02</td>\n",
       "      <td>357.385559</td>\n",
       "      <td>361.151062</td>\n",
       "      <td>355.959839</td>\n",
       "      <td>359.288177</td>\n",
       "      <td>359.288177</td>\n",
       "      <td>5115500</td>\n",
       "    </tr>\n",
       "    <tr>\n",
       "      <th>1</th>\n",
       "      <td>2013-01-03</td>\n",
       "      <td>360.122742</td>\n",
       "      <td>363.600128</td>\n",
       "      <td>358.031342</td>\n",
       "      <td>359.496826</td>\n",
       "      <td>359.496826</td>\n",
       "      <td>4666500</td>\n",
       "    </tr>\n",
       "    <tr>\n",
       "      <th>2</th>\n",
       "      <td>2013-01-04</td>\n",
       "      <td>362.313507</td>\n",
       "      <td>368.339294</td>\n",
       "      <td>361.488861</td>\n",
       "      <td>366.600616</td>\n",
       "      <td>366.600616</td>\n",
       "      <td>5562800</td>\n",
       "    </tr>\n",
       "    <tr>\n",
       "      <th>3</th>\n",
       "      <td>2013-01-07</td>\n",
       "      <td>365.348755</td>\n",
       "      <td>367.301056</td>\n",
       "      <td>362.929504</td>\n",
       "      <td>365.001007</td>\n",
       "      <td>365.001007</td>\n",
       "      <td>3332900</td>\n",
       "    </tr>\n",
       "    <tr>\n",
       "      <th>4</th>\n",
       "      <td>2013-01-08</td>\n",
       "      <td>365.393463</td>\n",
       "      <td>365.771027</td>\n",
       "      <td>359.874359</td>\n",
       "      <td>364.280701</td>\n",
       "      <td>364.280701</td>\n",
       "      <td>3373900</td>\n",
       "    </tr>\n",
       "  </tbody>\n",
       "</table>\n",
       "</div>"
      ],
      "text/plain": [
       "         Date        Open        High         Low       Close   Adj Close  \\\n",
       "0  2013-01-02  357.385559  361.151062  355.959839  359.288177  359.288177   \n",
       "1  2013-01-03  360.122742  363.600128  358.031342  359.496826  359.496826   \n",
       "2  2013-01-04  362.313507  368.339294  361.488861  366.600616  366.600616   \n",
       "3  2013-01-07  365.348755  367.301056  362.929504  365.001007  365.001007   \n",
       "4  2013-01-08  365.393463  365.771027  359.874359  364.280701  364.280701   \n",
       "\n",
       "    Volume  \n",
       "0  5115500  \n",
       "1  4666500  \n",
       "2  5562800  \n",
       "3  3332900  \n",
       "4  3373900  "
      ]
     },
     "execution_count": 142,
     "metadata": {},
     "output_type": "execute_result"
    }
   ],
   "source": [
    "df = pd.read_csv('google_data_trainset.csv')\n",
    "df.head()"
   ]
  },
  {
   "cell_type": "code",
   "execution_count": 143,
   "metadata": {},
   "outputs": [
    {
     "data": {
      "text/html": [
       "<div>\n",
       "<style scoped>\n",
       "    .dataframe tbody tr th:only-of-type {\n",
       "        vertical-align: middle;\n",
       "    }\n",
       "\n",
       "    .dataframe tbody tr th {\n",
       "        vertical-align: top;\n",
       "    }\n",
       "\n",
       "    .dataframe thead th {\n",
       "        text-align: right;\n",
       "    }\n",
       "</style>\n",
       "<table border=\"1\" class=\"dataframe\">\n",
       "  <thead>\n",
       "    <tr style=\"text-align: right;\">\n",
       "      <th></th>\n",
       "      <th>Date</th>\n",
       "      <th>Open</th>\n",
       "      <th>High</th>\n",
       "      <th>Low</th>\n",
       "      <th>Close</th>\n",
       "      <th>Adj Close</th>\n",
       "      <th>Volume</th>\n",
       "    </tr>\n",
       "  </thead>\n",
       "  <tbody>\n",
       "    <tr>\n",
       "      <th>1254</th>\n",
       "      <td>2017-12-22</td>\n",
       "      <td>1061.109985</td>\n",
       "      <td>1064.199951</td>\n",
       "      <td>1059.439941</td>\n",
       "      <td>1060.119995</td>\n",
       "      <td>1060.119995</td>\n",
       "      <td>755100</td>\n",
       "    </tr>\n",
       "    <tr>\n",
       "      <th>1255</th>\n",
       "      <td>2017-12-26</td>\n",
       "      <td>1058.069946</td>\n",
       "      <td>1060.119995</td>\n",
       "      <td>1050.199951</td>\n",
       "      <td>1056.739990</td>\n",
       "      <td>1056.739990</td>\n",
       "      <td>760600</td>\n",
       "    </tr>\n",
       "    <tr>\n",
       "      <th>1256</th>\n",
       "      <td>2017-12-27</td>\n",
       "      <td>1057.390015</td>\n",
       "      <td>1058.369995</td>\n",
       "      <td>1048.050049</td>\n",
       "      <td>1049.369995</td>\n",
       "      <td>1049.369995</td>\n",
       "      <td>1271900</td>\n",
       "    </tr>\n",
       "    <tr>\n",
       "      <th>1257</th>\n",
       "      <td>2017-12-28</td>\n",
       "      <td>1051.599976</td>\n",
       "      <td>1054.750000</td>\n",
       "      <td>1044.770020</td>\n",
       "      <td>1048.140015</td>\n",
       "      <td>1048.140015</td>\n",
       "      <td>837100</td>\n",
       "    </tr>\n",
       "    <tr>\n",
       "      <th>1258</th>\n",
       "      <td>2017-12-29</td>\n",
       "      <td>1046.719971</td>\n",
       "      <td>1049.699951</td>\n",
       "      <td>1044.900024</td>\n",
       "      <td>1046.400024</td>\n",
       "      <td>1046.400024</td>\n",
       "      <td>887500</td>\n",
       "    </tr>\n",
       "  </tbody>\n",
       "</table>\n",
       "</div>"
      ],
      "text/plain": [
       "            Date         Open         High          Low        Close  \\\n",
       "1254  2017-12-22  1061.109985  1064.199951  1059.439941  1060.119995   \n",
       "1255  2017-12-26  1058.069946  1060.119995  1050.199951  1056.739990   \n",
       "1256  2017-12-27  1057.390015  1058.369995  1048.050049  1049.369995   \n",
       "1257  2017-12-28  1051.599976  1054.750000  1044.770020  1048.140015   \n",
       "1258  2017-12-29  1046.719971  1049.699951  1044.900024  1046.400024   \n",
       "\n",
       "        Adj Close   Volume  \n",
       "1254  1060.119995   755100  \n",
       "1255  1056.739990   760600  \n",
       "1256  1049.369995  1271900  \n",
       "1257  1048.140015   837100  \n",
       "1258  1046.400024   887500  "
      ]
     },
     "execution_count": 143,
     "metadata": {},
     "output_type": "execute_result"
    }
   ],
   "source": [
    "df.tail()"
   ]
  },
  {
   "cell_type": "code",
   "execution_count": 144,
   "metadata": {},
   "outputs": [
    {
     "data": {
      "text/plain": [
       "(1259, 1)"
      ]
     },
     "execution_count": 144,
     "metadata": {},
     "output_type": "execute_result"
    }
   ],
   "source": [
    "# We are having the data from 1st August 2013 to 29th December 2017\n",
    "# lets take only the Open column for analysis\n",
    "X = df.iloc[:,1:2].values\n",
    "X.shape"
   ]
  },
  {
   "cell_type": "code",
   "execution_count": 145,
   "metadata": {},
   "outputs": [
    {
     "data": {
      "text/plain": [
       "array([[ 357.385559],\n",
       "       [ 360.122742],\n",
       "       [ 362.313507],\n",
       "       ...,\n",
       "       [1057.390015],\n",
       "       [1051.599976],\n",
       "       [1046.719971]])"
      ]
     },
     "execution_count": 145,
     "metadata": {},
     "output_type": "execute_result"
    }
   ],
   "source": [
    "X"
   ]
  },
  {
   "cell_type": "code",
   "execution_count": 146,
   "metadata": {},
   "outputs": [
    {
     "data": {
      "text/plain": [
       "[<matplotlib.lines.Line2D at 0x23924fe8dc8>]"
      ]
     },
     "execution_count": 146,
     "metadata": {},
     "output_type": "execute_result"
    },
    {
     "data": {
      "image/png": "[encoded data removed]",
      "text/plain": [
       "<Figure size 1440x432 with 1 Axes>"
      ]
     },
     "metadata": {
      "needs_background": "light"
     },
     "output_type": "display_data"
    }
   ],
   "source": [
    "plt.figure(figsize=(20,6))\n",
    "plt.plot(X)"
   ]
  },
  {
   "cell_type": "markdown",
   "metadata": {},
   "source": [
    "# Feature Scaling "
   ]
  },
  {
   "cell_type": "code",
   "execution_count": 147,
   "metadata": {},
   "outputs": [
    {
     "data": {
      "text/plain": [
       "(array([1.]), array([0.]))"
      ]
     },
     "execution_count": 147,
     "metadata": {},
     "output_type": "execute_result"
    }
   ],
   "source": [
    "from sklearn.preprocessing import MinMaxScaler\n",
    "sc = MinMaxScaler(feature_range=(0,1)) # converting into values from 0-1\n",
    "train_scaled = sc.fit_transform(X)\n",
    "max(train_scaled),min(train_scaled) # Sanity check ....MinMax Scaler transforms the values between 0-1"
   ]
  },
  {
   "cell_type": "code",
   "execution_count": 148,
   "metadata": {},
   "outputs": [
    {
     "data": {
      "text/plain": [
       "(1259, 1)"
      ]
     },
     "execution_count": 148,
     "metadata": {},
     "output_type": "execute_result"
    }
   ],
   "source": [
    "train_scaled.shape"
   ]
  },
  {
   "cell_type": "code",
   "execution_count": 149,
   "metadata": {},
   "outputs": [],
   "source": [
    "# Now we need to create data structure with some t time stamps\n",
    "x_train = []\n",
    "y_train = []\n",
    "\n",
    "for i in range(60,len(train_scaled)):\n",
    "    \n",
    "    x_train.append(train_scaled[i-60:i,0])\n",
    "    y_train.append(train_scaled[i,0])\n",
    "    \n",
    "x_train , y_train = np.array(x_train) , np.array(y_train)"
   ]
  },
  {
   "cell_type": "code",
   "execution_count": 150,
   "metadata": {},
   "outputs": [
    {
     "data": {
      "text/plain": [
       "(1199, 60)"
      ]
     },
     "execution_count": 150,
     "metadata": {},
     "output_type": "execute_result"
    }
   ],
   "source": [
    "x_train.shape"
   ]
  },
  {
   "cell_type": "code",
   "execution_count": 151,
   "metadata": {},
   "outputs": [],
   "source": [
    "#x_train = np.reshape(x_train,(x_train.shape[0],x_train.shape[1],1)) # converting into 3D tensors\n",
    "x_train = x_train.reshape(1199,60,1)"
   ]
  },
  {
   "cell_type": "code",
   "execution_count": 152,
   "metadata": {},
   "outputs": [
    {
     "data": {
      "text/plain": [
       "(1199, 60, 1)"
      ]
     },
     "execution_count": 152,
     "metadata": {},
     "output_type": "execute_result"
    }
   ],
   "source": [
    "x_train.shape"
   ]
  },
  {
   "cell_type": "markdown",
   "metadata": {},
   "source": [
    "## Creating the Model"
   ]
  },
  {
   "cell_type": "code",
   "execution_count": 153,
   "metadata": {},
   "outputs": [],
   "source": [
    "import tensorflow as tf\n",
    "#from tensorflow.keras.models import Model\n",
    "from tensorflow.keras.models import Sequential\n",
    "from tensorflow.keras import layers\n",
    "from tensorflow.keras.layers import LSTM , Dropout , Dense"
   ]
  },
  {
   "cell_type": "code",
   "execution_count": 154,
   "metadata": {
    "scrolled": true
   },
   "outputs": [
    {
     "name": "stdout",
     "output_type": "stream",
     "text": [
      "Train on 1199 samples\n",
      "Epoch 1/100\n",
      "1199/1199 [==============================] - 5s 4ms/sample - loss: 0.0247 - mean_squared_error: 0.0247\n",
      "Epoch 2/100\n",
      "1199/1199 [==============================] - 0s 371us/sample - loss: 0.0048 - mean_squared_error: 0.0048\n",
      "Epoch 3/100\n",
      "1199/1199 [==============================] - 0s 373us/sample - loss: 0.0041 - mean_squared_error: 0.0041\n",
      "Epoch 4/100\n",
      "1199/1199 [==============================] - 0s 374us/sample - loss: 0.0042 - mean_squared_error: 0.0042\n",
      "Epoch 5/100\n",
      "1199/1199 [==============================] - 0s 371us/sample - loss: 0.0050 - mean_squared_error: 0.0050\n",
      "Epoch 6/100\n",
      "1199/1199 [==============================] - 0s 374us/sample - loss: 0.0035 - mean_squared_error: 0.0035\n",
      "Epoch 7/100\n",
      "1199/1199 [==============================] - 0s 372us/sample - loss: 0.0036 - mean_squared_error: 0.0036\n",
      "Epoch 8/100\n",
      "1199/1199 [==============================] - 0s 415us/sample - loss: 0.0040 - mean_squared_error: 0.0040\n",
      "Epoch 9/100\n",
      "1199/1199 [==============================] - 0s 374us/sample - loss: 0.0032 - mean_squared_error: 0.0032\n",
      "Epoch 10/100\n",
      "1199/1199 [==============================] - 0s 374us/sample - loss: 0.0034 - mean_squared_error: 0.0034\n",
      "Epoch 11/100\n",
      "1199/1199 [==============================] - 0s 364us/sample - loss: 0.0028 - mean_squared_error: 0.0028\n",
      "Epoch 12/100\n",
      "1199/1199 [==============================] - 0s 368us/sample - loss: 0.0031 - mean_squared_error: 0.0031\n",
      "Epoch 13/100\n",
      "1199/1199 [==============================] - 0s 373us/sample - loss: 0.0028 - mean_squared_error: 0.0028\n",
      "Epoch 14/100\n",
      "1199/1199 [==============================] - 0s 367us/sample - loss: 0.0029 - mean_squared_error: 0.0029\n",
      "Epoch 15/100\n",
      "1199/1199 [==============================] - 0s 366us/sample - loss: 0.0038 - mean_squared_error: 0.0038\n",
      "Epoch 16/100\n",
      "1199/1199 [==============================] - 0s 377us/sample - loss: 0.0030 - mean_squared_error: 0.0030\n",
      "Epoch 17/100\n",
      "1199/1199 [==============================] - 0s 383us/sample - loss: 0.0024 - mean_squared_error: 0.0024\n",
      "Epoch 18/100\n",
      "1199/1199 [==============================] - 0s 375us/sample - loss: 0.0026 - mean_squared_error: 0.0026\n",
      "Epoch 19/100\n",
      "1199/1199 [==============================] - 0s 371us/sample - loss: 0.0025 - mean_squared_error: 0.0025\n",
      "Epoch 20/100\n",
      "1199/1199 [==============================] - 0s 370us/sample - loss: 0.0027 - mean_squared_error: 0.0027\n",
      "Epoch 21/100\n",
      "1199/1199 [==============================] - 0s 369us/sample - loss: 0.0025 - mean_squared_error: 0.0025\n",
      "Epoch 22/100\n",
      "1199/1199 [==============================] - 0s 374us/sample - loss: 0.0027 - mean_squared_error: 0.0027\n",
      "Epoch 23/100\n",
      "1199/1199 [==============================] - 0s 369us/sample - loss: 0.0024 - mean_squared_error: 0.0024\n",
      "Epoch 24/100\n",
      "1199/1199 [==============================] - 0s 377us/sample - loss: 0.0022 - mean_squared_error: 0.0022\n",
      "Epoch 25/100\n",
      "1199/1199 [==============================] - 0s 371us/sample - loss: 0.0022 - mean_squared_error: 0.0022\n",
      "Epoch 26/100\n",
      "1199/1199 [==============================] - 0s 376us/sample - loss: 0.0027 - mean_squared_error: 0.0027\n",
      "Epoch 27/100\n",
      "1199/1199 [==============================] - 0s 373us/sample - loss: 0.0022 - mean_squared_error: 0.0022\n",
      "Epoch 28/100\n",
      "1199/1199 [==============================] - 0s 381us/sample - loss: 0.0020 - mean_squared_error: 0.0020\n",
      "Epoch 29/100\n",
      "1199/1199 [==============================] - 0s 382us/sample - loss: 0.0021 - mean_squared_error: 0.0021\n",
      "Epoch 30/100\n",
      "1199/1199 [==============================] - 0s 378us/sample - loss: 0.0020 - mean_squared_error: 0.0020\n",
      "Epoch 31/100\n",
      "1199/1199 [==============================] - 0s 381us/sample - loss: 0.0021 - mean_squared_error: 0.0021\n",
      "Epoch 32/100\n",
      "1199/1199 [==============================] - 0s 381us/sample - loss: 0.0023 - mean_squared_error: 0.0023\n",
      "Epoch 33/100\n",
      "1199/1199 [==============================] - 0s 377us/sample - loss: 0.0022 - mean_squared_error: 0.0022\n",
      "Epoch 34/100\n",
      "1199/1199 [==============================] - 0s 374us/sample - loss: 0.0019 - mean_squared_error: 0.0019\n",
      "Epoch 35/100\n",
      "1199/1199 [==============================] - 0s 373us/sample - loss: 0.0018 - mean_squared_error: 0.0018\n",
      "Epoch 36/100\n",
      "1199/1199 [==============================] - 0s 372us/sample - loss: 0.0020 - mean_squared_error: 0.0020\n",
      "Epoch 37/100\n",
      "1199/1199 [==============================] - 0s 391us/sample - loss: 0.0020 - mean_squared_error: 0.0020\n",
      "Epoch 38/100\n",
      "1199/1199 [==============================] - 0s 376us/sample - loss: 0.0019 - mean_squared_error: 0.0019\n",
      "Epoch 39/100\n",
      "1199/1199 [==============================] - 0s 377us/sample - loss: 0.0019 - mean_squared_error: 0.0019\n",
      "Epoch 40/100\n",
      "1199/1199 [==============================] - 0s 397us/sample - loss: 0.0018 - mean_squared_error: 0.0018\n",
      "Epoch 41/100\n",
      "1199/1199 [==============================] - 0s 369us/sample - loss: 0.0018 - mean_squared_error: 0.0018\n",
      "Epoch 42/100\n",
      "1199/1199 [==============================] - 0s 371us/sample - loss: 0.0021 - mean_squared_error: 0.0021\n",
      "Epoch 43/100\n",
      "1199/1199 [==============================] - 0s 370us/sample - loss: 0.0023 - mean_squared_error: 0.0023\n",
      "Epoch 44/100\n",
      "1199/1199 [==============================] - 0s 370us/sample - loss: 0.0016 - mean_squared_error: 0.0016\n",
      "Epoch 45/100\n",
      "1199/1199 [==============================] - 0s 371us/sample - loss: 0.0016 - mean_squared_error: 0.0016\n",
      "Epoch 46/100\n",
      "1199/1199 [==============================] - 0s 368us/sample - loss: 0.0019 - mean_squared_error: 0.0019\n",
      "Epoch 47/100\n",
      "1199/1199 [==============================] - 0s 368us/sample - loss: 0.0016 - mean_squared_error: 0.0016\n",
      "Epoch 48/100\n",
      "1199/1199 [==============================] - 0s 371us/sample - loss: 0.0015 - mean_squared_error: 0.0015\n",
      "Epoch 49/100\n",
      "1199/1199 [==============================] - 0s 370us/sample - loss: 0.0016 - mean_squared_error: 0.0016\n",
      "Epoch 50/100\n",
      "1199/1199 [==============================] - 0s 371us/sample - loss: 0.0016 - mean_squared_error: 0.0016\n",
      "Epoch 51/100\n",
      "1199/1199 [==============================] - 0s 371us/sample - loss: 0.0017 - mean_squared_error: 0.0017\n",
      "Epoch 52/100\n",
      "1199/1199 [==============================] - 0s 368us/sample - loss: 0.0016 - mean_squared_error: 0.0016\n",
      "Epoch 53/100\n",
      "1199/1199 [==============================] - 0s 378us/sample - loss: 0.0016 - mean_squared_error: 0.0016\n",
      "Epoch 54/100\n",
      "1199/1199 [==============================] - 0s 369us/sample - loss: 0.0016 - mean_squared_error: 0.0016\n",
      "Epoch 55/100\n",
      "1199/1199 [==============================] - 0s 368us/sample - loss: 0.0019 - mean_squared_error: 0.0019\n",
      "Epoch 56/100\n",
      "1199/1199 [==============================] - 0s 368us/sample - loss: 0.0015 - mean_squared_error: 0.0015\n",
      "Epoch 57/100\n",
      "1199/1199 [==============================] - 0s 368us/sample - loss: 0.0015 - mean_squared_error: 0.0015\n",
      "Epoch 58/100\n",
      "1199/1199 [==============================] - 0s 367us/sample - loss: 0.0015 - mean_squared_error: 0.0015\n",
      "Epoch 59/100\n",
      "1199/1199 [==============================] - 0s 371us/sample - loss: 0.0014 - mean_squared_error: 0.0014\n",
      "Epoch 60/100\n",
      "1199/1199 [==============================] - 0s 372us/sample - loss: 0.0014 - mean_squared_error: 0.0014\n",
      "Epoch 61/100\n",
      "1199/1199 [==============================] - 0s 367us/sample - loss: 0.0014 - mean_squared_error: 0.0014\n",
      "Epoch 62/100\n",
      "1199/1199 [==============================] - 0s 368us/sample - loss: 0.0015 - mean_squared_error: 0.0015\n",
      "Epoch 63/100\n",
      "1199/1199 [==============================] - 0s 372us/sample - loss: 0.0014 - mean_squared_error: 0.0014\n",
      "Epoch 64/100\n",
      "1199/1199 [==============================] - 0s 366us/sample - loss: 0.0014 - mean_squared_error: 0.0014\n",
      "Epoch 65/100\n",
      "1199/1199 [==============================] - 0s 371us/sample - loss: 0.0014 - mean_squared_error: 0.0014\n",
      "Epoch 66/100\n",
      "1199/1199 [==============================] - 0s 368us/sample - loss: 0.0015 - mean_squared_error: 0.0015\n",
      "Epoch 67/100\n",
      "1199/1199 [==============================] - 0s 376us/sample - loss: 0.0014 - mean_squared_error: 0.0014\n",
      "Epoch 68/100\n",
      "1199/1199 [==============================] - 0s 374us/sample - loss: 0.0015 - mean_squared_error: 0.0015\n",
      "Epoch 69/100\n",
      "1199/1199 [==============================] - 0s 364us/sample - loss: 0.0013 - mean_squared_error: 0.0013\n",
      "Epoch 70/100\n"
     ]
    },
    {
     "name": "stdout",
     "output_type": "stream",
     "text": [
      "1199/1199 [==============================] - 0s 362us/sample - loss: 0.0014 - mean_squared_error: 0.0014\n",
      "Epoch 71/100\n",
      "1199/1199 [==============================] - 0s 374us/sample - loss: 0.0013 - mean_squared_error: 0.0013\n",
      "Epoch 72/100\n",
      "1199/1199 [==============================] - 0s 365us/sample - loss: 0.0013 - mean_squared_error: 0.0013\n",
      "Epoch 73/100\n",
      "1199/1199 [==============================] - 0s 373us/sample - loss: 0.0012 - mean_squared_error: 0.0012\n",
      "Epoch 74/100\n",
      "1199/1199 [==============================] - 0s 387us/sample - loss: 0.0013 - mean_squared_error: 0.0013\n",
      "Epoch 75/100\n",
      "1199/1199 [==============================] - 0s 391us/sample - loss: 0.0012 - mean_squared_error: 0.0012\n",
      "Epoch 76/100\n",
      "1199/1199 [==============================] - 0s 369us/sample - loss: 0.0012 - mean_squared_error: 0.0012\n",
      "Epoch 77/100\n",
      "1199/1199 [==============================] - 0s 367us/sample - loss: 0.0012 - mean_squared_error: 0.0012\n",
      "Epoch 78/100\n",
      "1199/1199 [==============================] - 0s 369us/sample - loss: 0.0013 - mean_squared_error: 0.0013\n",
      "Epoch 79/100\n",
      "1199/1199 [==============================] - 0s 368us/sample - loss: 0.0013 - mean_squared_error: 0.0013\n",
      "Epoch 80/100\n",
      "1199/1199 [==============================] - 0s 373us/sample - loss: 0.0012 - mean_squared_error: 0.0012\n",
      "Epoch 81/100\n",
      "1199/1199 [==============================] - 0s 367us/sample - loss: 0.0012 - mean_squared_error: 0.0012\n",
      "Epoch 82/100\n",
      "1199/1199 [==============================] - 1s 418us/sample - loss: 0.0013 - mean_squared_error: 0.0013\n",
      "Epoch 83/100\n",
      "1199/1199 [==============================] - 0s 372us/sample - loss: 0.0012 - mean_squared_error: 0.0012\n",
      "Epoch 84/100\n",
      "1199/1199 [==============================] - 0s 386us/sample - loss: 0.0012 - mean_squared_error: 0.0012\n",
      "Epoch 85/100\n",
      "1199/1199 [==============================] - 0s 373us/sample - loss: 0.0011 - mean_squared_error: 0.0011\n",
      "Epoch 86/100\n",
      "1199/1199 [==============================] - 0s 373us/sample - loss: 0.0011 - mean_squared_error: 0.0011\n",
      "Epoch 87/100\n",
      "1199/1199 [==============================] - 0s 371us/sample - loss: 0.0011 - mean_squared_error: 0.0011\n",
      "Epoch 88/100\n",
      "1199/1199 [==============================] - 0s 380us/sample - loss: 0.0010 - mean_squared_error: 0.0010\n",
      "Epoch 89/100\n",
      "1199/1199 [==============================] - 0s 368us/sample - loss: 0.0011 - mean_squared_error: 0.0011\n",
      "Epoch 90/100\n",
      "1199/1199 [==============================] - 0s 405us/sample - loss: 0.0011 - mean_squared_error: 0.0011\n",
      "Epoch 91/100\n",
      "1199/1199 [==============================] - 0s 370us/sample - loss: 0.0011 - mean_squared_error: 0.0011\n",
      "Epoch 92/100\n",
      "1199/1199 [==============================] - 0s 373us/sample - loss: 0.0010 - mean_squared_error: 0.0010\n",
      "Epoch 93/100\n",
      "1199/1199 [==============================] - 0s 369us/sample - loss: 0.0012 - mean_squared_error: 0.0012\n",
      "Epoch 94/100\n",
      "1199/1199 [==============================] - 0s 370us/sample - loss: 0.0011 - mean_squared_error: 0.0011\n",
      "Epoch 95/100\n",
      "1199/1199 [==============================] - 0s 368us/sample - loss: 9.8631e-04 - mean_squared_error: 9.8631e-04\n",
      "Epoch 96/100\n",
      "1199/1199 [==============================] - 0s 376us/sample - loss: 0.0011 - mean_squared_error: 0.0011\n",
      "Epoch 97/100\n",
      "1199/1199 [==============================] - 0s 367us/sample - loss: 0.0012 - mean_squared_error: 0.0012\n",
      "Epoch 98/100\n",
      "1199/1199 [==============================] - 0s 369us/sample - loss: 0.0011 - mean_squared_error: 0.0011\n",
      "Epoch 99/100\n",
      "1199/1199 [==============================] - 0s 366us/sample - loss: 0.0012 - mean_squared_error: 0.0012\n",
      "Epoch 100/100\n",
      "1199/1199 [==============================] - 0s 374us/sample - loss: 0.0010 - mean_squared_error: 0.0010\n"
     ]
    },
    {
     "data": {
      "text/plain": [
       "<tensorflow.python.keras.callbacks.History at 0x23926ee4e48>"
      ]
     },
     "execution_count": 154,
     "metadata": {},
     "output_type": "execute_result"
    }
   ],
   "source": [
    "model = Sequential()\n",
    "model.add(LSTM(units=50,return_sequences=True,input_shape=(60,1)))\n",
    "model.add(Dropout(0.2))\n",
    "model.add(LSTM(units=50,return_sequences=True))\n",
    "model.add(Dropout(0.2))\n",
    "model.add(LSTM(units=50,return_sequences=True))\n",
    "model.add(Dropout(0.2))\n",
    "model.add(LSTM(units=50))\n",
    "model.add(Dropout(0.2))\n",
    "model.add(Dense(units=1))\n",
    "\n",
    "model.compile(optimizer='Adam',\n",
    "              loss='mean_squared_error',\n",
    "              metrics=['mean_squared_error']\n",
    "              )\n",
    "\n",
    "model.fit(x_train,y_train,epochs=100,batch_size=32)\n",
    "\n"
   ]
  },
  {
   "cell_type": "markdown",
   "metadata": {},
   "source": [
    "# Predictions on the test dataset"
   ]
  },
  {
   "cell_type": "code",
   "execution_count": 155,
   "metadata": {},
   "outputs": [
    {
     "data": {
      "text/html": [
       "<div>\n",
       "<style scoped>\n",
       "    .dataframe tbody tr th:only-of-type {\n",
       "        vertical-align: middle;\n",
       "    }\n",
       "\n",
       "    .dataframe tbody tr th {\n",
       "        vertical-align: top;\n",
       "    }\n",
       "\n",
       "    .dataframe thead th {\n",
       "        text-align: right;\n",
       "    }\n",
       "</style>\n",
       "<table border=\"1\" class=\"dataframe\">\n",
       "  <thead>\n",
       "    <tr style=\"text-align: right;\">\n",
       "      <th></th>\n",
       "      <th>Date</th>\n",
       "      <th>Open</th>\n",
       "      <th>High</th>\n",
       "      <th>Low</th>\n",
       "      <th>Close</th>\n",
       "      <th>Adj Close</th>\n",
       "      <th>Volume</th>\n",
       "    </tr>\n",
       "  </thead>\n",
       "  <tbody>\n",
       "    <tr>\n",
       "      <th>0</th>\n",
       "      <td>2018-01-02</td>\n",
       "      <td>1048.339966</td>\n",
       "      <td>1066.939941</td>\n",
       "      <td>1045.229980</td>\n",
       "      <td>1065.000000</td>\n",
       "      <td>1065.000000</td>\n",
       "      <td>1237600</td>\n",
       "    </tr>\n",
       "    <tr>\n",
       "      <th>1</th>\n",
       "      <td>2018-01-03</td>\n",
       "      <td>1064.310059</td>\n",
       "      <td>1086.290039</td>\n",
       "      <td>1063.209961</td>\n",
       "      <td>1082.479980</td>\n",
       "      <td>1082.479980</td>\n",
       "      <td>1430200</td>\n",
       "    </tr>\n",
       "    <tr>\n",
       "      <th>2</th>\n",
       "      <td>2018-01-04</td>\n",
       "      <td>1088.000000</td>\n",
       "      <td>1093.569946</td>\n",
       "      <td>1084.001953</td>\n",
       "      <td>1086.400024</td>\n",
       "      <td>1086.400024</td>\n",
       "      <td>1004600</td>\n",
       "    </tr>\n",
       "    <tr>\n",
       "      <th>3</th>\n",
       "      <td>2018-01-05</td>\n",
       "      <td>1094.000000</td>\n",
       "      <td>1104.250000</td>\n",
       "      <td>1092.000000</td>\n",
       "      <td>1102.229980</td>\n",
       "      <td>1102.229980</td>\n",
       "      <td>1279100</td>\n",
       "    </tr>\n",
       "    <tr>\n",
       "      <th>4</th>\n",
       "      <td>2018-01-08</td>\n",
       "      <td>1102.229980</td>\n",
       "      <td>1111.270020</td>\n",
       "      <td>1101.619995</td>\n",
       "      <td>1106.939941</td>\n",
       "      <td>1106.939941</td>\n",
       "      <td>1047600</td>\n",
       "    </tr>\n",
       "  </tbody>\n",
       "</table>\n",
       "</div>"
      ],
      "text/plain": [
       "         Date         Open         High          Low        Close  \\\n",
       "0  2018-01-02  1048.339966  1066.939941  1045.229980  1065.000000   \n",
       "1  2018-01-03  1064.310059  1086.290039  1063.209961  1082.479980   \n",
       "2  2018-01-04  1088.000000  1093.569946  1084.001953  1086.400024   \n",
       "3  2018-01-05  1094.000000  1104.250000  1092.000000  1102.229980   \n",
       "4  2018-01-08  1102.229980  1111.270020  1101.619995  1106.939941   \n",
       "\n",
       "     Adj Close   Volume  \n",
       "0  1065.000000  1237600  \n",
       "1  1082.479980  1430200  \n",
       "2  1086.400024  1004600  \n",
       "3  1102.229980  1279100  \n",
       "4  1106.939941  1047600  "
      ]
     },
     "execution_count": 155,
     "metadata": {},
     "output_type": "execute_result"
    }
   ],
   "source": [
    "test_data = pd.read_csv('google_data_testset.csv')\n",
    "test_data.head()"
   ]
  },
  {
   "cell_type": "code",
   "execution_count": 156,
   "metadata": {},
   "outputs": [
    {
     "data": {
      "text/plain": [
       "(125,)"
      ]
     },
     "execution_count": 156,
     "metadata": {},
     "output_type": "execute_result"
    }
   ],
   "source": [
    "test_data['Open'].shape"
   ]
  },
  {
   "cell_type": "code",
   "execution_count": 157,
   "metadata": {},
   "outputs": [],
   "source": [
    "real_stock_price = test_data.iloc[:,1:2].values"
   ]
  },
  {
   "cell_type": "code",
   "execution_count": 158,
   "metadata": {},
   "outputs": [
    {
     "data": {
      "text/plain": [
       "(125, 1)"
      ]
     },
     "execution_count": 158,
     "metadata": {},
     "output_type": "execute_result"
    }
   ],
   "source": [
    "real_stock_price.shape"
   ]
  },
  {
   "cell_type": "code",
   "execution_count": 159,
   "metadata": {},
   "outputs": [
    {
     "data": {
      "text/plain": [
       "array([[1048.339966],\n",
       "       [1064.310059],\n",
       "       [1088.      ],\n",
       "       [1094.      ],\n",
       "       [1102.22998 ],\n",
       "       [1109.400024],\n",
       "       [1097.099976],\n",
       "       [1106.300049],\n",
       "       [1102.410034],\n",
       "       [1132.51001 ],\n",
       "       [1126.219971],\n",
       "       [1131.410034],\n",
       "       [1131.829956],\n",
       "       [1137.48999 ],\n",
       "       [1159.849976],\n",
       "       [1177.329956],\n",
       "       [1172.530029],\n",
       "       [1175.079956],\n",
       "       [1176.47998 ],\n",
       "       [1167.829956],\n",
       "       [1170.569946],\n",
       "       [1162.609985],\n",
       "       [1122.      ],\n",
       "       [1090.599976],\n",
       "       [1027.180054],\n",
       "       [1081.540039],\n",
       "       [1055.410034],\n",
       "       [1017.25    ],\n",
       "       [1048.      ],\n",
       "       [1045.      ],\n",
       "       [1048.949951],\n",
       "       [1079.069946],\n",
       "       [1088.410034],\n",
       "       [1090.569946],\n",
       "       [1106.469971],\n",
       "       [1116.189941],\n",
       "       [1112.640015],\n",
       "       [1127.800049],\n",
       "       [1141.23999 ],\n",
       "       [1123.030029],\n",
       "       [1107.869995],\n",
       "       [1053.079956],\n",
       "       [1075.140015],\n",
       "       [1099.219971],\n",
       "       [1089.189941],\n",
       "       [1115.319946],\n",
       "       [1136.      ],\n",
       "       [1163.849976],\n",
       "       [1170.      ],\n",
       "       [1145.209961],\n",
       "       [1149.959961],\n",
       "       [1154.140015],\n",
       "       [1120.01001 ],\n",
       "       [1099.      ],\n",
       "       [1092.73999 ],\n",
       "       [1081.880005],\n",
       "       [1047.030029],\n",
       "       [1046.      ],\n",
       "       [1063.      ],\n",
       "       [ 998.      ],\n",
       "       [1011.630005],\n",
       "       [1022.820007],\n",
       "       [1013.909973],\n",
       "       [ 993.409973],\n",
       "       [1041.329956],\n",
       "       [1020.      ],\n",
       "       [1016.799988],\n",
       "       [1026.439941],\n",
       "       [1027.98999 ],\n",
       "       [1025.040039],\n",
       "       [1040.880005],\n",
       "       [1037.      ],\n",
       "       [1051.369995],\n",
       "       [1077.430054],\n",
       "       [1069.400024],\n",
       "       [1082.      ],\n",
       "       [1077.859985],\n",
       "       [1052.      ],\n",
       "       [1025.52002 ],\n",
       "       [1029.51001 ],\n",
       "       [1046.      ],\n",
       "       [1030.01001 ],\n",
       "       [1013.659973],\n",
       "       [1028.099976],\n",
       "       [1019.      ],\n",
       "       [1016.900024],\n",
       "       [1049.22998 ],\n",
       "       [1058.540039],\n",
       "       [1058.099976],\n",
       "       [1086.030029],\n",
       "       [1093.599976],\n",
       "       [1100.      ],\n",
       "       [1090.      ],\n",
       "       [1077.310059],\n",
       "       [1079.890015],\n",
       "       [1061.859985],\n",
       "       [1074.060059],\n",
       "       [1083.560059],\n",
       "       [1065.130005],\n",
       "       [1079.      ],\n",
       "       [1079.02002 ],\n",
       "       [1064.890015],\n",
       "       [1063.030029],\n",
       "       [1067.560059],\n",
       "       [1099.349976],\n",
       "       [1122.329956],\n",
       "       [1140.98999 ],\n",
       "       [1142.170044],\n",
       "       [1131.319946],\n",
       "       [1118.180054],\n",
       "       [1118.599976],\n",
       "       [1131.069946],\n",
       "       [1141.119995],\n",
       "       [1143.849976],\n",
       "       [1148.859985],\n",
       "       [1143.650024],\n",
       "       [1158.5     ],\n",
       "       [1175.310059],\n",
       "       [1174.849976],\n",
       "       [1159.140015],\n",
       "       [1143.599976],\n",
       "       [1128.      ],\n",
       "       [1121.339966],\n",
       "       [1102.089966],\n",
       "       [1120.      ]])"
      ]
     },
     "execution_count": 159,
     "metadata": {},
     "output_type": "execute_result"
    }
   ],
   "source": [
    "real_stock_price"
   ]
  },
  {
   "cell_type": "code",
   "execution_count": 160,
   "metadata": {},
   "outputs": [
    {
     "data": {
      "text/plain": [
       "(1259,)"
      ]
     },
     "execution_count": 160,
     "metadata": {},
     "output_type": "execute_result"
    }
   ],
   "source": [
    "df['Open'].shape"
   ]
  },
  {
   "cell_type": "code",
   "execution_count": 161,
   "metadata": {},
   "outputs": [],
   "source": [
    "dataset_total = pd.concat((df['Open'],test_data['Open']),axis=0)"
   ]
  },
  {
   "cell_type": "code",
   "execution_count": 162,
   "metadata": {},
   "outputs": [
    {
     "data": {
      "text/plain": [
       "0       357.385559\n",
       "1       360.122742\n",
       "2       362.313507\n",
       "3       365.348755\n",
       "4       365.393463\n",
       "          ...     \n",
       "120    1143.599976\n",
       "121    1128.000000\n",
       "122    1121.339966\n",
       "123    1102.089966\n",
       "124    1120.000000\n",
       "Name: Open, Length: 1384, dtype: float64"
      ]
     },
     "execution_count": 162,
     "metadata": {},
     "output_type": "execute_result"
    }
   ],
   "source": [
    "dataset_total"
   ]
  },
  {
   "cell_type": "code",
   "execution_count": 163,
   "metadata": {
    "scrolled": true
   },
   "outputs": [
    {
     "data": {
      "text/plain": [
       "array([ 955.48999 ,  966.700012,  980.      ,  980.      ,  973.719971,\n",
       "        987.450012,  992.      ,  992.099976,  990.289978,  991.77002 ,\n",
       "        986.      ,  989.440002,  989.52002 ,  970.      ,  968.369995,\n",
       "        980.      , 1009.190002, 1014.      , 1015.219971, 1017.210022,\n",
       "       1021.76001 , 1022.109985, 1028.98999 , 1027.27002 , 1030.52002 ,\n",
       "       1033.98999 , 1026.459961, 1023.419983, 1022.590027, 1019.210022,\n",
       "       1022.52002 , 1034.01001 , 1020.26001 , 1023.309998, 1035.      ,\n",
       "       1035.869995, 1040.      , 1055.089966, 1042.680054, 1022.369995,\n",
       "       1015.799988, 1012.659973,  995.940002, 1001.5     , 1020.429993,\n",
       "       1037.48999 , 1035.5     , 1039.630005, 1046.119995, 1045.      ,\n",
       "       1054.609985, 1066.079956, 1075.199951, 1071.780029, 1064.949951,\n",
       "       1061.109985, 1058.069946, 1057.390015, 1051.599976, 1046.719971,\n",
       "       1048.339966, 1064.310059, 1088.      , 1094.      , 1102.22998 ,\n",
       "       1109.400024, 1097.099976, 1106.300049, 1102.410034, 1132.51001 ,\n",
       "       1126.219971, 1131.410034, 1131.829956, 1137.48999 , 1159.849976,\n",
       "       1177.329956, 1172.530029, 1175.079956, 1176.47998 , 1167.829956,\n",
       "       1170.569946, 1162.609985, 1122.      , 1090.599976, 1027.180054,\n",
       "       1081.540039, 1055.410034, 1017.25    , 1048.      , 1045.      ,\n",
       "       1048.949951, 1079.069946, 1088.410034, 1090.569946, 1106.469971,\n",
       "       1116.189941, 1112.640015, 1127.800049, 1141.23999 , 1123.030029,\n",
       "       1107.869995, 1053.079956, 1075.140015, 1099.219971, 1089.189941,\n",
       "       1115.319946, 1136.      , 1163.849976, 1170.      , 1145.209961,\n",
       "       1149.959961, 1154.140015, 1120.01001 , 1099.      , 1092.73999 ,\n",
       "       1081.880005, 1047.030029, 1046.      , 1063.      ,  998.      ,\n",
       "       1011.630005, 1022.820007, 1013.909973,  993.409973, 1041.329956,\n",
       "       1020.      , 1016.799988, 1026.439941, 1027.98999 , 1025.040039,\n",
       "       1040.880005, 1037.      , 1051.369995, 1077.430054, 1069.400024,\n",
       "       1082.      , 1077.859985, 1052.      , 1025.52002 , 1029.51001 ,\n",
       "       1046.      , 1030.01001 , 1013.659973, 1028.099976, 1019.      ,\n",
       "       1016.900024, 1049.22998 , 1058.540039, 1058.099976, 1086.030029,\n",
       "       1093.599976, 1100.      , 1090.      , 1077.310059, 1079.890015,\n",
       "       1061.859985, 1074.060059, 1083.560059, 1065.130005, 1079.      ,\n",
       "       1079.02002 , 1064.890015, 1063.030029, 1067.560059, 1099.349976,\n",
       "       1122.329956, 1140.98999 , 1142.170044, 1131.319946, 1118.180054,\n",
       "       1118.599976, 1131.069946, 1141.119995, 1143.849976, 1148.859985,\n",
       "       1143.650024, 1158.5     , 1175.310059, 1174.849976, 1159.140015,\n",
       "       1143.599976, 1128.      , 1121.339966, 1102.089966, 1120.      ])"
      ]
     },
     "execution_count": 163,
     "metadata": {},
     "output_type": "execute_result"
    }
   ],
   "source": [
    "inputs = dataset_total[len(dataset_total) - len(test_data)-60:].values\n",
    "inputs\n",
    "# here we are simply taking the last 60 days record from our train data X"
   ]
  },
  {
   "cell_type": "code",
   "execution_count": 164,
   "metadata": {},
   "outputs": [
    {
     "data": {
      "text/plain": [
       "(185, 1)"
      ]
     },
     "execution_count": 164,
     "metadata": {},
     "output_type": "execute_result"
    }
   ],
   "source": [
    "inputs = inputs.reshape(-1,1)\n",
    "inputs.shape"
   ]
  },
  {
   "cell_type": "code",
   "execution_count": 165,
   "metadata": {},
   "outputs": [
    {
     "data": {
      "text/plain": [
       "(185, 1)"
      ]
     },
     "execution_count": 165,
     "metadata": {},
     "output_type": "execute_result"
    }
   ],
   "source": [
    "inputs = sc.transform(inputs)\n",
    "inputs.shape"
   ]
  },
  {
   "cell_type": "code",
   "execution_count": 166,
   "metadata": {},
   "outputs": [],
   "source": [
    "x_test = []\n",
    "for i in range(60,185):\n",
    "    x_test.append(inputs[i-60:i,0])"
   ]
  },
  {
   "cell_type": "code",
   "execution_count": 167,
   "metadata": {
    "scrolled": true
   },
   "outputs": [
    {
     "data": {
      "text/plain": [
       "(125, 60)"
      ]
     },
     "execution_count": 167,
     "metadata": {},
     "output_type": "execute_result"
    }
   ],
   "source": [
    "x_test = np.array(x_test)\n",
    "x_test.shape"
   ]
  },
  {
   "cell_type": "code",
   "execution_count": 168,
   "metadata": {},
   "outputs": [
    {
     "data": {
      "text/plain": [
       "(125, 60, 1)"
      ]
     },
     "execution_count": 168,
     "metadata": {},
     "output_type": "execute_result"
    }
   ],
   "source": [
    "x_test = np.reshape(x_test, (x_test.shape[0],x_test.shape[1],1))\n",
    "x_test.shape"
   ]
  },
  {
   "cell_type": "code",
   "execution_count": 169,
   "metadata": {},
   "outputs": [],
   "source": [
    "predicted_price = model.predict(x_test)"
   ]
  },
  {
   "cell_type": "code",
   "execution_count": 170,
   "metadata": {},
   "outputs": [
    {
     "data": {
      "text/plain": [
       "array([[1021.6971 ],\n",
       "       [1020.2168 ],\n",
       "       [1022.5323 ],\n",
       "       [1031.0117 ],\n",
       "       [1042.2441 ],\n",
       "       [1052.8689 ],\n",
       "       [1061.1884 ],\n",
       "       [1063.9282 ],\n",
       "       [1064.1079 ],\n",
       "       [1062.9072 ],\n",
       "       [1066.6997 ],\n",
       "       [1072.4886 ],\n",
       "       [1078.3774 ],\n",
       "       [1082.8378 ],\n",
       "       [1086.411  ],\n",
       "       [1092.7751 ],\n",
       "       [1102.8281 ],\n",
       "       [1111.6849 ],\n",
       "       [1117.4724 ],\n",
       "       [1120.4167 ],\n",
       "       [1120.0122 ],\n",
       "       [1118.6475 ],\n",
       "       [1116.4637 ],\n",
       "       [1107.9718 ],\n",
       "       [1092.5331 ],\n",
       "       [1067.124  ],\n",
       "       [1050.1495 ],\n",
       "       [1041.3744 ],\n",
       "       [1032.698  ],\n",
       "       [1029.0326 ],\n",
       "       [1029.3842 ],\n",
       "       [1031.8433 ],\n",
       "       [1038.9824 ],\n",
       "       [1048.5563 ],\n",
       "       [1056.4797 ],\n",
       "       [1063.0939 ],\n",
       "       [1068.836  ],\n",
       "       [1071.9749 ],\n",
       "       [1075.1288 ],\n",
       "       [1080.3071 ],\n",
       "       [1082.6259 ],\n",
       "       [1079.6598 ],\n",
       "       [1065.5076 ],\n",
       "       [1051.4785 ],\n",
       "       [1047.1531 ],\n",
       "       [1049.5303 ],\n",
       "       [1058.6658 ],\n",
       "       [1072.733  ],\n",
       "       [1090.2706 ],\n",
       "       [1105.8066 ],\n",
       "       [1111.0771 ],\n",
       "       [1109.3107 ],\n",
       "       [1105.6707 ],\n",
       "       [1097.2559 ],\n",
       "       [1084.642  ],\n",
       "       [1072.1405 ],\n",
       "       [1061.9552 ],\n",
       "       [1050.3704 ],\n",
       "       [1039.8826 ],\n",
       "       [1035.7195 ],\n",
       "       [1026.426  ],\n",
       "       [1015.9277 ],\n",
       "       [1009.5694 ],\n",
       "       [1006.2896 ],\n",
       "       [1001.358  ],\n",
       "       [1002.98126],\n",
       "       [1005.81726],\n",
       "       [1006.43506],\n",
       "       [1006.2566 ],\n",
       "       [1006.00366],\n",
       "       [1005.1503 ],\n",
       "       [1006.45105],\n",
       "       [1008.4249 ],\n",
       "       [1012.26324],\n",
       "       [1020.8387 ],\n",
       "       [1029.124  ],\n",
       "       [1036.3655 ],\n",
       "       [1040.5823 ],\n",
       "       [1037.5917 ],\n",
       "       [1026.4521 ],\n",
       "       [1014.0574 ],\n",
       "       [1008.03577],\n",
       "       [1005.9763 ],\n",
       "       [1003.32446],\n",
       "       [1002.44543],\n",
       "       [1001.8678 ],\n",
       "       [1000.84595],\n",
       "       [1004.91705],\n",
       "       [1013.474  ],\n",
       "       [1021.96747],\n",
       "       [1032.0586 ],\n",
       "       [1042.1656 ],\n",
       "       [1050.5363 ],\n",
       "       [1053.9359 ],\n",
       "       [1051.2786 ],\n",
       "       [1046.4542 ],\n",
       "       [1039.566  ],\n",
       "       [1035.4161 ],\n",
       "       [1036.5092 ],\n",
       "       [1037.7661 ],\n",
       "       [1040.2539 ],\n",
       "       [1043.2195 ],\n",
       "       [1043.2998 ],\n",
       "       [1040.8778 ],\n",
       "       [1038.5331 ],\n",
       "       [1042.5996 ],\n",
       "       [1054.2626 ],\n",
       "       [1070.3726 ],\n",
       "       [1084.2745 ],\n",
       "       [1090.5626 ],\n",
       "       [1088.4108 ],\n",
       "       [1082.5194 ],\n",
       "       [1079.1798 ],\n",
       "       [1081.0464 ],\n",
       "       [1086.3494 ],\n",
       "       [1092.8857 ],\n",
       "       [1097.4166 ],\n",
       "       [1101.9792 ],\n",
       "       [1108.8156 ],\n",
       "       [1115.5067 ],\n",
       "       [1117.4564 ],\n",
       "       [1113.3185 ],\n",
       "       [1104.4756 ],\n",
       "       [1094.6578 ],\n",
       "       [1084.3563 ]], dtype=float32)"
      ]
     },
     "execution_count": 170,
     "metadata": {},
     "output_type": "execute_result"
    }
   ],
   "source": [
    "predicted_price = sc.inverse_transform(predicted_price) # Undo the scaling of X according to feature_range\n",
    "predicted_price"
   ]
  },
  {
   "cell_type": "code",
   "execution_count": 171,
   "metadata": {},
   "outputs": [
    {
     "data": {
      "image/png": "[encoded data removed]",
      "text/plain": [
       "<Figure size 720x432 with 1 Axes>"
      ]
     },
     "metadata": {
      "needs_background": "light"
     },
     "output_type": "display_data"
    }
   ],
   "source": [
    "plt.figure(figsize=(10,6))\n",
    "plt.plot(real_stock_price, color = 'red', label = 'Real Price')\n",
    "plt.plot(predicted_price, color = 'blue', label = 'Predicted Price')\n",
    "plt.title('Google Stock Price Prediction')\n",
    "plt.xlabel('Time')\n",
    "plt.ylabel('Google Stock Price')\n",
    "plt.legend()\n",
    "plt.show()"
   ]
  },
  {
   "cell_type": "code",
   "execution_count": null,
   "metadata": {},
   "outputs": [],
   "source": []
  }
 ],
 "metadata": {
  "kernelspec": {
   "display_name": "Python 3",
   "language": "python",
   "name": "python3"
  },
  "language_info": {
   "codemirror_mode": {
    "name": "ipython",
    "version": 3
   },
   "file_extension": ".py",
   "mimetype": "text/x-python",
   "name": "python",
   "nbconvert_exporter": "python",
   "pygments_lexer": "ipython3",
   "version": "3.7.9"
  }
 },
 "nbformat": 4,
 "nbformat_minor": 4
}
